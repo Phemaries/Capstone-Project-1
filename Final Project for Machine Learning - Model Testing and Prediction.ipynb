{
 "cells": [
  {
   "cell_type": "markdown",
   "metadata": {},
   "source": [
    "## PROJECT"
   ]
  },
  {
   "cell_type": "code",
   "execution_count": null,
   "metadata": {},
   "outputs": [],
   "source": []
  },
  {
   "cell_type": "markdown",
   "metadata": {},
   "source": [
    "### Observation\n",
    "\n",
    "`Age` - The values of 'age' column is in unit of days. So, this will be changed to years for better understanding.\n",
    "\n",
    "`Gender` - The values of 'gender' column are 1 and 2. In this, '1' is indicated as women and '2' as men. For better computation, the column name should be changed from 'gender' to 'male' and the values should be changed into 0 as women and 1 as men.\n",
    "\n",
    "`Height` - The unit of height is in centimeter (cm). There are various incorrect values recorded in the dataset which cannot be considerd as height. So these outliers should be removed and only the normal human height of the patients should be considered. Those with abnormal small heights (risk of Achondroplasia or dwarfism) and tall heights (risk of atrial fibrillation) may have confirmed risk of cardiovascular diseases from an early stage of their life, which would affect the data analysis for the focused parameters.\n",
    "\n",
    "`Weight` - The values of 'weight' column is in unit of kilogram (kg).\n",
    "\n",
    "`BMI (Body-mass index)` - A column of bmi and bmi_class is required to better understand the healthy weight parameter of the patients in terms of their height. We use the parameters provided by The Canadian Diabetes Association (https://www.diabetes.ca/resources/tools---resources/body-mass-index-(bmi)-calculator#:~:text=The%20formula%20is%20BMI%20%3D%20kg,most%20adults%2018%2D65%20years.)\n",
    "\n",
    "`Blood pressure (ap_hi / ap_lo)` - The unit of blood pressure can be assumed to be in mmHg. The minimum value of blood pressure is negative which is highly unlikely as normal blood pressure should be between 120/90mmHg (meaning Systolic pressure of 120mmHg and Diastolic pressure of 90mmHg). Blood pressure readings will be classified based on Medical News Today (https://www.medicalnewstoday.com/articles/327077).\n",
    "\n",
    "`Cholesterol` - The cholesterol level are indicated as 1, 2 and 3, where 1 is normal, 2 is above normal and 3 is well above normal. For better computation, it should be changed into 0 as normal, 1 as above normal and 2 as well above normal.\n",
    "\n",
    "`Glucose` - The glucose level are indicated as 1, 2 and 3, where 1 is normal, 2 is above normal and 3 is well above normal. For better computation, it should be changed into 0 as normal, 1 as above normal and 2 as well above normal.\n",
    "\n",
    "`Smokin` - In the 'smoke' column, the value '0' means that the patient don't smokes and value '1' means that the patient smokes.\n",
    "\n",
    "`Alcohol consumption` - In the 'alco' column, the value '0' means that the patient don't drink alcohol and value '1' means that the patient drink alcohol. The name of column should be changed into 'alcohol_intake' for better understanding.\n",
    "\n",
    "`Physical activity` - In the 'active' column, the value '0' means that the patient is non-active and '1' means that the patient is active.\n",
    "\n",
    "`The information about smoking, alcohol consumption and physical activity are subjective features which are given by the patients. These data may not be reliable but can provide a better insight of patient conditions.`\n",
    "\n",
    "`Cardiovascular disease occurrence` - This is a target variable which provides the information about the presence or absence of cardiovascular disease. In the 'cardio' column, the value '0' means absence of cardiovascular disease and '1' means presence of cardiovascular disease. The name of this 'cardio' column should be changed into 'cvd' for better understanding. In this dataset, near about half of the subjects have cardiovascular diseases."
   ]
  },
  {
   "cell_type": "code",
   "execution_count": 1,
   "metadata": {},
   "outputs": [],
   "source": [
    "#Import Libraries\n",
    "import pandas as pd\n",
    "import numpy as np\n",
    "\n",
    "pd.set_option('display.max_rows', 800)\n",
    "pd.set_option('display.max_columns', 500)\n",
    "\n",
    "import matplotlib.pyplot as plt\n",
    "import matplotlib as mpl\n",
    "import seaborn as sns\n",
    "sns.set()\n",
    "\n",
    "import warnings\n",
    "warnings.filterwarnings('ignore')\n",
    "\n",
    "from sklearn.model_selection import train_test_split\n",
    "from sklearn.metrics import confusion_matrix \n",
    "from sklearn.metrics import classification_report \n",
    "from sklearn.metrics import accuracy_score \n",
    "from sklearn.linear_model import LogisticRegression\n",
    "from sklearn.linear_model import LinearRegression\n",
    "from sklearn.tree import DecisionTreeClassifier\n",
    "from sklearn.ensemble import RandomForestClassifier\n",
    "from sklearn.feature_extraction import DictVectorizer\n",
    "from sklearn.metrics import roc_curve\n",
    "from sklearn.metrics import roc_auc_score\n",
    "from sklearn.metrics import mean_squared_error\n",
    "from sklearn.metrics import mutual_info_score\n",
    "from sklearn.linear_model import RidgeClassifier\n",
    "from sklearn.model_selection import KFold\n",
    "from tqdm.auto import tqdm\n",
    "from sklearn.metrics import f1_score\n",
    "\n",
    "from sklearn.model_selection import cross_val_score\n",
    "from sklearn.metrics import precision_recall_curve\n",
    "\n",
    "import re\n",
    "\n",
    "import xgboost as xgb"
   ]
  },
  {
   "cell_type": "code",
   "execution_count": null,
   "metadata": {},
   "outputs": [],
   "source": []
  },
  {
   "cell_type": "code",
   "execution_count": 2,
   "metadata": {},
   "outputs": [],
   "source": [
    "df = pd.read_csv(\"C:/Users/Co/Desktop/ML Project DataKlub/cardio_train.csv\", sep=';')"
   ]
  },
  {
   "cell_type": "code",
   "execution_count": 3,
   "metadata": {},
   "outputs": [
    {
     "data": {
      "text/plain": [
       "Index(['id', 'age', 'gender', 'height', 'weight', 'ap_hi', 'ap_lo',\n",
       "       'cholesterol', 'gluc', 'smoke', 'alco', 'active', 'cardio'],\n",
       "      dtype='object')"
      ]
     },
     "execution_count": 3,
     "metadata": {},
     "output_type": "execute_result"
    }
   ],
   "source": [
    "df.columns"
   ]
  },
  {
   "cell_type": "code",
   "execution_count": 4,
   "metadata": {},
   "outputs": [
    {
     "data": {
      "text/html": [
       "<div>\n",
       "<style scoped>\n",
       "    .dataframe tbody tr th:only-of-type {\n",
       "        vertical-align: middle;\n",
       "    }\n",
       "\n",
       "    .dataframe tbody tr th {\n",
       "        vertical-align: top;\n",
       "    }\n",
       "\n",
       "    .dataframe thead th {\n",
       "        text-align: right;\n",
       "    }\n",
       "</style>\n",
       "<table border=\"1\" class=\"dataframe\">\n",
       "  <thead>\n",
       "    <tr style=\"text-align: right;\">\n",
       "      <th></th>\n",
       "      <th>id</th>\n",
       "      <th>age</th>\n",
       "      <th>gender</th>\n",
       "      <th>height</th>\n",
       "      <th>weight</th>\n",
       "      <th>ap_hi</th>\n",
       "      <th>ap_lo</th>\n",
       "      <th>cholesterol</th>\n",
       "      <th>gluc</th>\n",
       "      <th>smoke</th>\n",
       "      <th>alco</th>\n",
       "      <th>active</th>\n",
       "      <th>cardio</th>\n",
       "    </tr>\n",
       "  </thead>\n",
       "  <tbody>\n",
       "    <tr>\n",
       "      <th>0</th>\n",
       "      <td>0</td>\n",
       "      <td>18393</td>\n",
       "      <td>2</td>\n",
       "      <td>168</td>\n",
       "      <td>62.0</td>\n",
       "      <td>110</td>\n",
       "      <td>80</td>\n",
       "      <td>1</td>\n",
       "      <td>1</td>\n",
       "      <td>0</td>\n",
       "      <td>0</td>\n",
       "      <td>1</td>\n",
       "      <td>0</td>\n",
       "    </tr>\n",
       "    <tr>\n",
       "      <th>1</th>\n",
       "      <td>1</td>\n",
       "      <td>20228</td>\n",
       "      <td>1</td>\n",
       "      <td>156</td>\n",
       "      <td>85.0</td>\n",
       "      <td>140</td>\n",
       "      <td>90</td>\n",
       "      <td>3</td>\n",
       "      <td>1</td>\n",
       "      <td>0</td>\n",
       "      <td>0</td>\n",
       "      <td>1</td>\n",
       "      <td>1</td>\n",
       "    </tr>\n",
       "    <tr>\n",
       "      <th>2</th>\n",
       "      <td>2</td>\n",
       "      <td>18857</td>\n",
       "      <td>1</td>\n",
       "      <td>165</td>\n",
       "      <td>64.0</td>\n",
       "      <td>130</td>\n",
       "      <td>70</td>\n",
       "      <td>3</td>\n",
       "      <td>1</td>\n",
       "      <td>0</td>\n",
       "      <td>0</td>\n",
       "      <td>0</td>\n",
       "      <td>1</td>\n",
       "    </tr>\n",
       "    <tr>\n",
       "      <th>3</th>\n",
       "      <td>3</td>\n",
       "      <td>17623</td>\n",
       "      <td>2</td>\n",
       "      <td>169</td>\n",
       "      <td>82.0</td>\n",
       "      <td>150</td>\n",
       "      <td>100</td>\n",
       "      <td>1</td>\n",
       "      <td>1</td>\n",
       "      <td>0</td>\n",
       "      <td>0</td>\n",
       "      <td>1</td>\n",
       "      <td>1</td>\n",
       "    </tr>\n",
       "    <tr>\n",
       "      <th>4</th>\n",
       "      <td>4</td>\n",
       "      <td>17474</td>\n",
       "      <td>1</td>\n",
       "      <td>156</td>\n",
       "      <td>56.0</td>\n",
       "      <td>100</td>\n",
       "      <td>60</td>\n",
       "      <td>1</td>\n",
       "      <td>1</td>\n",
       "      <td>0</td>\n",
       "      <td>0</td>\n",
       "      <td>0</td>\n",
       "      <td>0</td>\n",
       "    </tr>\n",
       "  </tbody>\n",
       "</table>\n",
       "</div>"
      ],
      "text/plain": [
       "   id    age  gender  height  weight  ap_hi  ap_lo  cholesterol  gluc  smoke  \\\n",
       "0   0  18393       2     168    62.0    110     80            1     1      0   \n",
       "1   1  20228       1     156    85.0    140     90            3     1      0   \n",
       "2   2  18857       1     165    64.0    130     70            3     1      0   \n",
       "3   3  17623       2     169    82.0    150    100            1     1      0   \n",
       "4   4  17474       1     156    56.0    100     60            1     1      0   \n",
       "\n",
       "   alco  active  cardio  \n",
       "0     0       1       0  \n",
       "1     0       1       1  \n",
       "2     0       0       1  \n",
       "3     0       1       1  \n",
       "4     0       0       0  "
      ]
     },
     "execution_count": 4,
     "metadata": {},
     "output_type": "execute_result"
    }
   ],
   "source": [
    "df.head()"
   ]
  },
  {
   "cell_type": "code",
   "execution_count": 5,
   "metadata": {},
   "outputs": [
    {
     "data": {
      "text/plain": [
       "id               int64\n",
       "age              int64\n",
       "gender           int64\n",
       "height           int64\n",
       "weight         float64\n",
       "ap_hi            int64\n",
       "ap_lo            int64\n",
       "cholesterol      int64\n",
       "gluc             int64\n",
       "smoke            int64\n",
       "alco             int64\n",
       "active           int64\n",
       "cardio           int64\n",
       "dtype: object"
      ]
     },
     "execution_count": 5,
     "metadata": {},
     "output_type": "execute_result"
    }
   ],
   "source": [
    "df.dtypes"
   ]
  },
  {
   "cell_type": "code",
   "execution_count": 6,
   "metadata": {},
   "outputs": [
    {
     "name": "stdout",
     "output_type": "stream",
     "text": [
      "<class 'pandas.core.frame.DataFrame'>\n",
      "RangeIndex: 70000 entries, 0 to 69999\n",
      "Data columns (total 13 columns):\n",
      " #   Column       Non-Null Count  Dtype  \n",
      "---  ------       --------------  -----  \n",
      " 0   id           70000 non-null  int64  \n",
      " 1   age          70000 non-null  int64  \n",
      " 2   gender       70000 non-null  int64  \n",
      " 3   height       70000 non-null  int64  \n",
      " 4   weight       70000 non-null  float64\n",
      " 5   ap_hi        70000 non-null  int64  \n",
      " 6   ap_lo        70000 non-null  int64  \n",
      " 7   cholesterol  70000 non-null  int64  \n",
      " 8   gluc         70000 non-null  int64  \n",
      " 9   smoke        70000 non-null  int64  \n",
      " 10  alco         70000 non-null  int64  \n",
      " 11  active       70000 non-null  int64  \n",
      " 12  cardio       70000 non-null  int64  \n",
      "dtypes: float64(1), int64(12)\n",
      "memory usage: 6.9 MB\n"
     ]
    }
   ],
   "source": [
    "df.info()"
   ]
  },
  {
   "cell_type": "code",
   "execution_count": 7,
   "metadata": {},
   "outputs": [
    {
     "data": {
      "text/plain": [
       "id             0\n",
       "age            0\n",
       "gender         0\n",
       "height         0\n",
       "weight         0\n",
       "ap_hi          0\n",
       "ap_lo          0\n",
       "cholesterol    0\n",
       "gluc           0\n",
       "smoke          0\n",
       "alco           0\n",
       "active         0\n",
       "cardio         0\n",
       "dtype: int64"
      ]
     },
     "execution_count": 7,
     "metadata": {},
     "output_type": "execute_result"
    }
   ],
   "source": [
    "df.isnull().sum()"
   ]
  },
  {
   "cell_type": "code",
   "execution_count": 8,
   "metadata": {},
   "outputs": [],
   "source": [
    "# df.describe()"
   ]
  },
  {
   "cell_type": "code",
   "execution_count": 9,
   "metadata": {},
   "outputs": [
    {
     "data": {
      "text/plain": [
       "Index(['id', 'age', 'gender', 'height', 'weight', 'ap_hi', 'ap_lo',\n",
       "       'cholesterol', 'gluc', 'smoke', 'alco', 'active', 'cardio'],\n",
       "      dtype='object')"
      ]
     },
     "execution_count": 9,
     "metadata": {},
     "output_type": "execute_result"
    }
   ],
   "source": [
    "df.columns"
   ]
  },
  {
   "cell_type": "code",
   "execution_count": 10,
   "metadata": {},
   "outputs": [
    {
     "data": {
      "text/html": [
       "<div>\n",
       "<style scoped>\n",
       "    .dataframe tbody tr th:only-of-type {\n",
       "        vertical-align: middle;\n",
       "    }\n",
       "\n",
       "    .dataframe tbody tr th {\n",
       "        vertical-align: top;\n",
       "    }\n",
       "\n",
       "    .dataframe thead th {\n",
       "        text-align: right;\n",
       "    }\n",
       "</style>\n",
       "<table border=\"1\" class=\"dataframe\">\n",
       "  <thead>\n",
       "    <tr style=\"text-align: right;\">\n",
       "      <th></th>\n",
       "      <th>id</th>\n",
       "      <th>age</th>\n",
       "      <th>gender</th>\n",
       "      <th>height</th>\n",
       "      <th>weight</th>\n",
       "      <th>ap_hi</th>\n",
       "      <th>ap_lo</th>\n",
       "      <th>cholesterol</th>\n",
       "      <th>glucose</th>\n",
       "      <th>smoke</th>\n",
       "      <th>alcohol_consumption</th>\n",
       "      <th>active</th>\n",
       "      <th>cardio_status</th>\n",
       "    </tr>\n",
       "  </thead>\n",
       "  <tbody>\n",
       "    <tr>\n",
       "      <th>0</th>\n",
       "      <td>0</td>\n",
       "      <td>18393</td>\n",
       "      <td>2</td>\n",
       "      <td>168</td>\n",
       "      <td>62.0</td>\n",
       "      <td>110</td>\n",
       "      <td>80</td>\n",
       "      <td>1</td>\n",
       "      <td>1</td>\n",
       "      <td>0</td>\n",
       "      <td>0</td>\n",
       "      <td>1</td>\n",
       "      <td>0</td>\n",
       "    </tr>\n",
       "    <tr>\n",
       "      <th>1</th>\n",
       "      <td>1</td>\n",
       "      <td>20228</td>\n",
       "      <td>1</td>\n",
       "      <td>156</td>\n",
       "      <td>85.0</td>\n",
       "      <td>140</td>\n",
       "      <td>90</td>\n",
       "      <td>3</td>\n",
       "      <td>1</td>\n",
       "      <td>0</td>\n",
       "      <td>0</td>\n",
       "      <td>1</td>\n",
       "      <td>1</td>\n",
       "    </tr>\n",
       "    <tr>\n",
       "      <th>2</th>\n",
       "      <td>2</td>\n",
       "      <td>18857</td>\n",
       "      <td>1</td>\n",
       "      <td>165</td>\n",
       "      <td>64.0</td>\n",
       "      <td>130</td>\n",
       "      <td>70</td>\n",
       "      <td>3</td>\n",
       "      <td>1</td>\n",
       "      <td>0</td>\n",
       "      <td>0</td>\n",
       "      <td>0</td>\n",
       "      <td>1</td>\n",
       "    </tr>\n",
       "    <tr>\n",
       "      <th>3</th>\n",
       "      <td>3</td>\n",
       "      <td>17623</td>\n",
       "      <td>2</td>\n",
       "      <td>169</td>\n",
       "      <td>82.0</td>\n",
       "      <td>150</td>\n",
       "      <td>100</td>\n",
       "      <td>1</td>\n",
       "      <td>1</td>\n",
       "      <td>0</td>\n",
       "      <td>0</td>\n",
       "      <td>1</td>\n",
       "      <td>1</td>\n",
       "    </tr>\n",
       "    <tr>\n",
       "      <th>4</th>\n",
       "      <td>4</td>\n",
       "      <td>17474</td>\n",
       "      <td>1</td>\n",
       "      <td>156</td>\n",
       "      <td>56.0</td>\n",
       "      <td>100</td>\n",
       "      <td>60</td>\n",
       "      <td>1</td>\n",
       "      <td>1</td>\n",
       "      <td>0</td>\n",
       "      <td>0</td>\n",
       "      <td>0</td>\n",
       "      <td>0</td>\n",
       "    </tr>\n",
       "  </tbody>\n",
       "</table>\n",
       "</div>"
      ],
      "text/plain": [
       "   id    age  gender  height  weight  ap_hi  ap_lo  cholesterol  glucose  \\\n",
       "0   0  18393       2     168    62.0    110     80            1        1   \n",
       "1   1  20228       1     156    85.0    140     90            3        1   \n",
       "2   2  18857       1     165    64.0    130     70            3        1   \n",
       "3   3  17623       2     169    82.0    150    100            1        1   \n",
       "4   4  17474       1     156    56.0    100     60            1        1   \n",
       "\n",
       "   smoke  alcohol_consumption  active  cardio_status  \n",
       "0      0                    0       1              0  \n",
       "1      0                    0       1              1  \n",
       "2      0                    0       0              1  \n",
       "3      0                    0       1              1  \n",
       "4      0                    0       0              0  "
      ]
     },
     "execution_count": 10,
     "metadata": {},
     "output_type": "execute_result"
    }
   ],
   "source": [
    "df.rename(columns={\"gluc\":\"glucose\", \"alco\":\"alcohol_consumption\", \"cardio\":\"cardio_status\"}, inplace=True)\n",
    "df.head()"
   ]
  },
  {
   "cell_type": "code",
   "execution_count": null,
   "metadata": {},
   "outputs": [],
   "source": []
  },
  {
   "cell_type": "code",
   "execution_count": 11,
   "metadata": {
    "scrolled": true
   },
   "outputs": [],
   "source": [
    "# Discarding blood pressure greater than 370/360 mmHg and blood pressure less than 50/20mmHg respectively\n",
    "df = df.loc[(df[\"ap_hi\"] > 50) & (df[\"ap_hi\"] < 370) & (df[\"ap_lo\"] > 20) & (df[\"ap_lo\"] < 360)]\n",
    "df.reset_index(inplace=True)"
   ]
  },
  {
   "cell_type": "code",
   "execution_count": 12,
   "metadata": {},
   "outputs": [
    {
     "data": {
      "text/plain": [
       "(68781, 14)"
      ]
     },
     "execution_count": 12,
     "metadata": {},
     "output_type": "execute_result"
    }
   ],
   "source": [
    "df.shape"
   ]
  },
  {
   "cell_type": "code",
   "execution_count": 13,
   "metadata": {},
   "outputs": [],
   "source": [
    "# function for blood pressure classification\n",
    "def pressure_label(row):\n",
    "    if row['ap_hi'] < 90 and row['ap_lo'] < 60:\n",
    "        return 'Low Blood Pressure'\n",
    "    elif row['ap_hi'] < 120 and row['ap_lo'] < 80:\n",
    "        return \"Normal Blood Pressure\"\n",
    "    elif row['ap_hi'] < 130 and row['ap_lo'] < 80:\n",
    "        return \"Elevated Blood Pressure\"\n",
    "    elif row['ap_hi'] < 140 and row['ap_lo'] < 90:\n",
    "        return \"High BP Stage 1\"\n",
    "    else:\n",
    "        return \"High BP Stage 2\"\n",
    "   "
   ]
  },
  {
   "cell_type": "code",
   "execution_count": 14,
   "metadata": {},
   "outputs": [],
   "source": [
    "df['blood_pressure'] = df.apply(pressure_label, axis=1)"
   ]
  },
  {
   "cell_type": "code",
   "execution_count": 15,
   "metadata": {},
   "outputs": [
    {
     "data": {
      "text/plain": [
       "High BP Stage 1            32460\n",
       "High BP Stage 2            23652\n",
       "Normal Blood Pressure       9542\n",
       "Elevated Blood Pressure     3113\n",
       "Low Blood Pressure            14\n",
       "Name: blood_pressure, dtype: int64"
      ]
     },
     "execution_count": 15,
     "metadata": {},
     "output_type": "execute_result"
    }
   ],
   "source": [
    "df['blood_pressure'].value_counts()"
   ]
  },
  {
   "cell_type": "code",
   "execution_count": 16,
   "metadata": {},
   "outputs": [],
   "source": [
    "# df"
   ]
  },
  {
   "cell_type": "code",
   "execution_count": 17,
   "metadata": {},
   "outputs": [],
   "source": [
    "## change days to years in age column\n",
    "df[\"age\"] = df[\"age\"].apply(lambda x: round(x/365))"
   ]
  },
  {
   "cell_type": "code",
   "execution_count": 18,
   "metadata": {},
   "outputs": [
    {
     "data": {
      "text/plain": [
       "0         True\n",
       "1        False\n",
       "2         True\n",
       "3        False\n",
       "4         True\n",
       "         ...  \n",
       "68776    False\n",
       "68777    False\n",
       "68778    False\n",
       "68779    False\n",
       "68780     True\n",
       "Name: bmi_class, Length: 68781, dtype: bool"
      ]
     },
     "execution_count": 18,
     "metadata": {},
     "output_type": "execute_result"
    }
   ],
   "source": [
    "# Reference from the The Canadian Diabetes Association says that:\n",
    "# Body Mass Index is a simple calculation using a person’s height and weight. \n",
    "# The formula is BMI = kg/m2 where kg is a person’s weight in kilograms and m2 is their height in metres squared.\n",
    "# A BMI of 25.0 or more is overweight, while the healthy range is 18.5 to 24.9. BMI applies to most adults 18-65 years.\n",
    "\n",
    "df[\"bmi\"] = df[\"weight\"] *10000 / ((df[\"height\"])**2)\n",
    "df['bmi_class'] = df['bmi'].apply(lambda x : x < 25)\n",
    "df['bmi_class']"
   ]
  },
  {
   "cell_type": "code",
   "execution_count": 19,
   "metadata": {},
   "outputs": [
    {
     "data": {
      "text/plain": [
       "index                    int64\n",
       "id                       int64\n",
       "age                      int64\n",
       "gender                   int64\n",
       "height                   int64\n",
       "weight                 float64\n",
       "ap_hi                    int64\n",
       "ap_lo                    int64\n",
       "cholesterol              int64\n",
       "glucose                  int64\n",
       "smoke                    int64\n",
       "alcohol_consumption      int64\n",
       "active                   int64\n",
       "cardio_status            int64\n",
       "blood_pressure          object\n",
       "bmi                    float64\n",
       "bmi_class                 bool\n",
       "dtype: object"
      ]
     },
     "execution_count": 19,
     "metadata": {},
     "output_type": "execute_result"
    }
   ],
   "source": [
    "df.dtypes"
   ]
  },
  {
   "cell_type": "code",
   "execution_count": 20,
   "metadata": {},
   "outputs": [],
   "source": [
    "## let's drop the id column which won't contribute to the model using domain knowldedge.\n",
    "df.drop(['id', 'index'], axis=1, inplace=True)"
   ]
  },
  {
   "cell_type": "code",
   "execution_count": 21,
   "metadata": {},
   "outputs": [],
   "source": [
    "## convert \n",
    "df[['weight', 'bmi_class']] = df[['weight', 'bmi_class']] .astype('int64')"
   ]
  },
  {
   "cell_type": "code",
   "execution_count": 22,
   "metadata": {},
   "outputs": [
    {
     "name": "stdout",
     "output_type": "stream",
     "text": [
      "Columns with categorical variables are: ['blood_pressure'] \n",
      "\n",
      "Columns with integer values are: ['age', 'gender', 'height', 'weight', 'ap_hi', 'ap_lo', 'cholesterol', 'glucose', 'smoke', 'alcohol_consumption', 'active', 'cardio_status', 'bmi_class']\n"
     ]
    }
   ],
   "source": [
    "# data variables are object ar boolean\n",
    "\n",
    "cat_cols = list(df.dtypes[df.dtypes == 'object'].index)\n",
    "print(f'Columns with categorical variables are: {cat_cols} \\n')\n",
    "\n",
    "\n",
    "int_cols = list(df.dtypes[df.dtypes == 'int64'].index)\n",
    "print(f'Columns with integer values are: {int_cols}')"
   ]
  },
  {
   "cell_type": "code",
   "execution_count": 23,
   "metadata": {},
   "outputs": [],
   "source": [
    "# int_cols = ['age', 'gender', 'height', 'weight', 'ap_hi', 'ap_lo', 'cholesterol', 'glucose', 'smoke', 'alcohol_consumption', 'active', 'bmi_class', 'cardio_status']\n",
    "# df = df[int_cols]"
   ]
  },
  {
   "cell_type": "code",
   "execution_count": 24,
   "metadata": {},
   "outputs": [],
   "source": [
    "## for better computation, replace 1 with 0, 2 with 1, 3 with 2\n",
    "df[['gender', 'glucose', 'cholesterol']] = df[['gender', 'glucose', 'cholesterol']].apply(lambda x : x-1)"
   ]
  },
  {
   "cell_type": "code",
   "execution_count": 25,
   "metadata": {},
   "outputs": [
    {
     "data": {
      "text/plain": [
       "Index(['age', 'gender', 'height', 'weight', 'ap_hi', 'ap_lo', 'cholesterol',\n",
       "       'glucose', 'smoke', 'alcohol_consumption', 'active', 'cardio_status',\n",
       "       'blood_pressure', 'bmi', 'bmi_class'],\n",
       "      dtype='object')"
      ]
     },
     "execution_count": 25,
     "metadata": {},
     "output_type": "execute_result"
    }
   ],
   "source": [
    "df.columns"
   ]
  },
  {
   "cell_type": "code",
   "execution_count": 26,
   "metadata": {},
   "outputs": [
    {
     "name": "stdout",
     "output_type": "stream",
     "text": [
      "GENDER: \n",
      "\n",
      "0    44795\n",
      "1    23986\n",
      "Name: gender, dtype: int64\n",
      "\n",
      "\n",
      "GLUCOSE: \n",
      "\n",
      "0    58472\n",
      "2     5235\n",
      "1     5074\n",
      "Name: glucose, dtype: int64\n",
      "\n",
      "\n",
      "CHOLESTEROL: \n",
      "\n",
      "0    51581\n",
      "1     9314\n",
      "2     7886\n",
      "Name: cholesterol, dtype: int64\n",
      "\n",
      "\n",
      "SMOKE: \n",
      "\n",
      "0    62728\n",
      "1     6053\n",
      "Name: smoke, dtype: int64\n",
      "\n",
      "\n",
      "ALCOHOL_CONSUMPTION: \n",
      "\n",
      "0    65092\n",
      "1     3689\n",
      "Name: alcohol_consumption, dtype: int64\n",
      "\n",
      "\n",
      "ACTIVE: \n",
      "\n",
      "1    55257\n",
      "0    13524\n",
      "Name: active, dtype: int64\n",
      "\n",
      "\n",
      "BMI_CLASS: \n",
      "\n",
      "0    42805\n",
      "1    25976\n",
      "Name: bmi_class, dtype: int64\n",
      "\n",
      "\n",
      "BLOOD_PRESSURE: \n",
      "\n",
      "High BP Stage 1            32460\n",
      "High BP Stage 2            23652\n",
      "Normal Blood Pressure       9542\n",
      "Elevated Blood Pressure     3113\n",
      "Low Blood Pressure            14\n",
      "Name: blood_pressure, dtype: int64\n",
      "\n",
      "\n",
      "CARDIO_STATUS: \n",
      "\n",
      "0    34741\n",
      "1    34040\n",
      "Name: cardio_status, dtype: int64\n",
      "\n",
      "\n"
     ]
    }
   ],
   "source": [
    "select = ['gender', 'glucose', 'cholesterol', 'smoke', 'alcohol_consumption', 'active', 'bmi_class', 'blood_pressure', 'cardio_status']\n",
    "df_select = df[select]\n",
    "\n",
    "for col in df_select.columns:\n",
    "    gra = df_select[col].value_counts()\n",
    "    print(f'{col.upper()}: \\n')\n",
    "    print(gra)\n",
    "    print('\\n')\n",
    "    "
   ]
  },
  {
   "cell_type": "code",
   "execution_count": 27,
   "metadata": {},
   "outputs": [
    {
     "data": {
      "text/html": [
       "<div>\n",
       "<style scoped>\n",
       "    .dataframe tbody tr th:only-of-type {\n",
       "        vertical-align: middle;\n",
       "    }\n",
       "\n",
       "    .dataframe tbody tr th {\n",
       "        vertical-align: top;\n",
       "    }\n",
       "\n",
       "    .dataframe thead th {\n",
       "        text-align: right;\n",
       "    }\n",
       "</style>\n",
       "<table border=\"1\" class=\"dataframe\">\n",
       "  <thead>\n",
       "    <tr style=\"text-align: right;\">\n",
       "      <th></th>\n",
       "      <th>age</th>\n",
       "      <th>gender</th>\n",
       "      <th>height</th>\n",
       "      <th>weight</th>\n",
       "      <th>ap_hi</th>\n",
       "      <th>ap_lo</th>\n",
       "      <th>cholesterol</th>\n",
       "      <th>glucose</th>\n",
       "      <th>smoke</th>\n",
       "      <th>alcohol_consumption</th>\n",
       "      <th>active</th>\n",
       "      <th>cardio_status</th>\n",
       "      <th>bmi</th>\n",
       "      <th>bmi_class</th>\n",
       "    </tr>\n",
       "  </thead>\n",
       "  <tbody>\n",
       "    <tr>\n",
       "      <th>count</th>\n",
       "      <td>68781.000000</td>\n",
       "      <td>68781.000000</td>\n",
       "      <td>68781.000000</td>\n",
       "      <td>68781.000000</td>\n",
       "      <td>68781.000000</td>\n",
       "      <td>68781.000000</td>\n",
       "      <td>68781.000000</td>\n",
       "      <td>68781.000000</td>\n",
       "      <td>68781.000000</td>\n",
       "      <td>68781.000000</td>\n",
       "      <td>68781.000000</td>\n",
       "      <td>68781.000000</td>\n",
       "      <td>68781.000000</td>\n",
       "      <td>68781.000000</td>\n",
       "    </tr>\n",
       "    <tr>\n",
       "      <th>mean</th>\n",
       "      <td>53.326820</td>\n",
       "      <td>0.348730</td>\n",
       "      <td>164.361684</td>\n",
       "      <td>74.121662</td>\n",
       "      <td>126.615286</td>\n",
       "      <td>81.377561</td>\n",
       "      <td>0.364723</td>\n",
       "      <td>0.225993</td>\n",
       "      <td>0.088004</td>\n",
       "      <td>0.053634</td>\n",
       "      <td>0.803376</td>\n",
       "      <td>0.494904</td>\n",
       "      <td>27.523017</td>\n",
       "      <td>0.377662</td>\n",
       "    </tr>\n",
       "    <tr>\n",
       "      <th>std</th>\n",
       "      <td>6.767516</td>\n",
       "      <td>0.476572</td>\n",
       "      <td>8.185009</td>\n",
       "      <td>14.331393</td>\n",
       "      <td>16.763540</td>\n",
       "      <td>9.688359</td>\n",
       "      <td>0.678980</td>\n",
       "      <td>0.571968</td>\n",
       "      <td>0.283303</td>\n",
       "      <td>0.225296</td>\n",
       "      <td>0.397449</td>\n",
       "      <td>0.499978</td>\n",
       "      <td>6.050164</td>\n",
       "      <td>0.484806</td>\n",
       "    </tr>\n",
       "    <tr>\n",
       "      <th>min</th>\n",
       "      <td>30.000000</td>\n",
       "      <td>0.000000</td>\n",
       "      <td>55.000000</td>\n",
       "      <td>11.000000</td>\n",
       "      <td>60.000000</td>\n",
       "      <td>30.000000</td>\n",
       "      <td>0.000000</td>\n",
       "      <td>0.000000</td>\n",
       "      <td>0.000000</td>\n",
       "      <td>0.000000</td>\n",
       "      <td>0.000000</td>\n",
       "      <td>0.000000</td>\n",
       "      <td>3.471784</td>\n",
       "      <td>0.000000</td>\n",
       "    </tr>\n",
       "    <tr>\n",
       "      <th>25%</th>\n",
       "      <td>48.000000</td>\n",
       "      <td>0.000000</td>\n",
       "      <td>159.000000</td>\n",
       "      <td>65.000000</td>\n",
       "      <td>120.000000</td>\n",
       "      <td>80.000000</td>\n",
       "      <td>0.000000</td>\n",
       "      <td>0.000000</td>\n",
       "      <td>0.000000</td>\n",
       "      <td>0.000000</td>\n",
       "      <td>1.000000</td>\n",
       "      <td>0.000000</td>\n",
       "      <td>23.875115</td>\n",
       "      <td>0.000000</td>\n",
       "    </tr>\n",
       "    <tr>\n",
       "      <th>50%</th>\n",
       "      <td>54.000000</td>\n",
       "      <td>0.000000</td>\n",
       "      <td>165.000000</td>\n",
       "      <td>72.000000</td>\n",
       "      <td>120.000000</td>\n",
       "      <td>80.000000</td>\n",
       "      <td>0.000000</td>\n",
       "      <td>0.000000</td>\n",
       "      <td>0.000000</td>\n",
       "      <td>0.000000</td>\n",
       "      <td>1.000000</td>\n",
       "      <td>0.000000</td>\n",
       "      <td>26.346494</td>\n",
       "      <td>0.000000</td>\n",
       "    </tr>\n",
       "    <tr>\n",
       "      <th>75%</th>\n",
       "      <td>58.000000</td>\n",
       "      <td>1.000000</td>\n",
       "      <td>170.000000</td>\n",
       "      <td>82.000000</td>\n",
       "      <td>140.000000</td>\n",
       "      <td>90.000000</td>\n",
       "      <td>1.000000</td>\n",
       "      <td>0.000000</td>\n",
       "      <td>0.000000</td>\n",
       "      <td>0.000000</td>\n",
       "      <td>1.000000</td>\n",
       "      <td>1.000000</td>\n",
       "      <td>30.119376</td>\n",
       "      <td>1.000000</td>\n",
       "    </tr>\n",
       "    <tr>\n",
       "      <th>max</th>\n",
       "      <td>65.000000</td>\n",
       "      <td>1.000000</td>\n",
       "      <td>250.000000</td>\n",
       "      <td>200.000000</td>\n",
       "      <td>240.000000</td>\n",
       "      <td>190.000000</td>\n",
       "      <td>2.000000</td>\n",
       "      <td>2.000000</td>\n",
       "      <td>1.000000</td>\n",
       "      <td>1.000000</td>\n",
       "      <td>1.000000</td>\n",
       "      <td>1.000000</td>\n",
       "      <td>298.666667</td>\n",
       "      <td>1.000000</td>\n",
       "    </tr>\n",
       "  </tbody>\n",
       "</table>\n",
       "</div>"
      ],
      "text/plain": [
       "                age        gender        height        weight         ap_hi  \\\n",
       "count  68781.000000  68781.000000  68781.000000  68781.000000  68781.000000   \n",
       "mean      53.326820      0.348730    164.361684     74.121662    126.615286   \n",
       "std        6.767516      0.476572      8.185009     14.331393     16.763540   \n",
       "min       30.000000      0.000000     55.000000     11.000000     60.000000   \n",
       "25%       48.000000      0.000000    159.000000     65.000000    120.000000   \n",
       "50%       54.000000      0.000000    165.000000     72.000000    120.000000   \n",
       "75%       58.000000      1.000000    170.000000     82.000000    140.000000   \n",
       "max       65.000000      1.000000    250.000000    200.000000    240.000000   \n",
       "\n",
       "              ap_lo   cholesterol       glucose         smoke  \\\n",
       "count  68781.000000  68781.000000  68781.000000  68781.000000   \n",
       "mean      81.377561      0.364723      0.225993      0.088004   \n",
       "std        9.688359      0.678980      0.571968      0.283303   \n",
       "min       30.000000      0.000000      0.000000      0.000000   \n",
       "25%       80.000000      0.000000      0.000000      0.000000   \n",
       "50%       80.000000      0.000000      0.000000      0.000000   \n",
       "75%       90.000000      1.000000      0.000000      0.000000   \n",
       "max      190.000000      2.000000      2.000000      1.000000   \n",
       "\n",
       "       alcohol_consumption        active  cardio_status           bmi  \\\n",
       "count         68781.000000  68781.000000   68781.000000  68781.000000   \n",
       "mean              0.053634      0.803376       0.494904     27.523017   \n",
       "std               0.225296      0.397449       0.499978      6.050164   \n",
       "min               0.000000      0.000000       0.000000      3.471784   \n",
       "25%               0.000000      1.000000       0.000000     23.875115   \n",
       "50%               0.000000      1.000000       0.000000     26.346494   \n",
       "75%               0.000000      1.000000       1.000000     30.119376   \n",
       "max               1.000000      1.000000       1.000000    298.666667   \n",
       "\n",
       "          bmi_class  \n",
       "count  68781.000000  \n",
       "mean       0.377662  \n",
       "std        0.484806  \n",
       "min        0.000000  \n",
       "25%        0.000000  \n",
       "50%        0.000000  \n",
       "75%        1.000000  \n",
       "max        1.000000  "
      ]
     },
     "execution_count": 27,
     "metadata": {},
     "output_type": "execute_result"
    }
   ],
   "source": [
    "df.describe()"
   ]
  },
  {
   "cell_type": "code",
   "execution_count": null,
   "metadata": {},
   "outputs": [],
   "source": []
  },
  {
   "cell_type": "code",
   "execution_count": 28,
   "metadata": {},
   "outputs": [],
   "source": [
    "df = df[['age', 'gender', 'cholesterol','glucose', 'smoke', 'alcohol_consumption', 'active', 'blood_pressure', 'bmi_class', 'cardio_status']]"
   ]
  },
  {
   "cell_type": "code",
   "execution_count": null,
   "metadata": {},
   "outputs": [],
   "source": []
  },
  {
   "cell_type": "markdown",
   "metadata": {},
   "source": [
    "## Validation, Testing & Prediction"
   ]
  },
  {
   "cell_type": "code",
   "execution_count": 29,
   "metadata": {},
   "outputs": [
    {
     "data": {
      "text/plain": [
       "(68781, 10)"
      ]
     },
     "execution_count": 29,
     "metadata": {},
     "output_type": "execute_result"
    }
   ],
   "source": [
    "df.shape"
   ]
  },
  {
   "cell_type": "code",
   "execution_count": 30,
   "metadata": {},
   "outputs": [
    {
     "data": {
      "text/plain": [
       "Index(['age', 'gender', 'cholesterol', 'glucose', 'smoke',\n",
       "       'alcohol_consumption', 'active', 'blood_pressure', 'bmi_class',\n",
       "       'cardio_status'],\n",
       "      dtype='object')"
      ]
     },
     "execution_count": 30,
     "metadata": {},
     "output_type": "execute_result"
    }
   ],
   "source": [
    "df.columns"
   ]
  },
  {
   "cell_type": "code",
   "execution_count": 31,
   "metadata": {},
   "outputs": [],
   "source": [
    "# split data set to 60/20/20 for validation and testing\n",
    "data_full_train, data_test = train_test_split(df, test_size=0.2, random_state=42)\n",
    "data_train, data_val = train_test_split(data_full_train, test_size=0.25, random_state=42)"
   ]
  },
  {
   "cell_type": "code",
   "execution_count": 32,
   "metadata": {},
   "outputs": [
    {
     "data": {
      "text/plain": [
       "(41268, 13756, 13757)"
      ]
     },
     "execution_count": 32,
     "metadata": {},
     "output_type": "execute_result"
    }
   ],
   "source": [
    "len(data_train), len(data_val), len(data_test)"
   ]
  },
  {
   "cell_type": "code",
   "execution_count": 33,
   "metadata": {},
   "outputs": [],
   "source": [
    "y_train = data_train.cardio_status.values\n",
    "y_val = data_val.cardio_status.values\n",
    "y_test = data_test.cardio_status.values\n",
    "\n",
    "del data_train['cardio_status']\n",
    "del data_val['cardio_status']\n",
    "del data_test['cardio_status']"
   ]
  },
  {
   "cell_type": "code",
   "execution_count": 34,
   "metadata": {},
   "outputs": [],
   "source": [
    "numerical_cols = ['age', 'gender', 'cholesterol','glucose', 'smoke', 'alcohol_consumption', 'active', 'bmi_class']"
   ]
  },
  {
   "cell_type": "code",
   "execution_count": 35,
   "metadata": {},
   "outputs": [],
   "source": [
    "categorical_cols = ['blood_pressure']"
   ]
  },
  {
   "cell_type": "code",
   "execution_count": null,
   "metadata": {},
   "outputs": [],
   "source": []
  },
  {
   "cell_type": "markdown",
   "metadata": {},
   "source": [
    "#### Check AUC Score"
   ]
  },
  {
   "cell_type": "code",
   "execution_count": 36,
   "metadata": {},
   "outputs": [
    {
     "name": "stdout",
     "output_type": "stream",
     "text": [
      "age, 0.637\n",
      "gender, 0.504\n",
      "cholesterol, 0.594\n",
      "glucose, 0.535\n",
      "smoke, 0.505\n",
      "alcohol_consumption, 0.502\n",
      "active, 0.515\n",
      "bmi_class, 0.576\n"
     ]
    }
   ],
   "source": [
    "# from sklearn.metrics import roc_auc_score\n",
    "\n",
    "for cols in numerical_cols:\n",
    "    rauc = roc_auc_score(y_train, data_train[cols])\n",
    "    if rauc < 0.5: #if variable is negatively correlated\n",
    "        rauc = roc_auc_score(y_train, -data_train[cols])\n",
    "    print(f'{cols}, {rauc:.3}')"
   ]
  },
  {
   "cell_type": "code",
   "execution_count": null,
   "metadata": {},
   "outputs": [],
   "source": []
  },
  {
   "cell_type": "code",
   "execution_count": 37,
   "metadata": {},
   "outputs": [],
   "source": [
    "dv = DictVectorizer(sparse=False)\n",
    "\n",
    "train_dict = data_train[categorical_cols + numerical_cols].to_dict(orient='records')\n",
    "X_train = dv.fit_transform(train_dict)\n",
    "\n",
    "val_dict = data_val[categorical_cols + numerical_cols].to_dict(orient='records')\n",
    "X_val = dv.transform(val_dict)"
   ]
  },
  {
   "cell_type": "code",
   "execution_count": 38,
   "metadata": {},
   "outputs": [
    {
     "data": {
      "text/plain": [
       "(41268, 13)"
      ]
     },
     "execution_count": 38,
     "metadata": {},
     "output_type": "execute_result"
    }
   ],
   "source": [
    "X_train.shape"
   ]
  },
  {
   "cell_type": "code",
   "execution_count": null,
   "metadata": {},
   "outputs": [],
   "source": []
  },
  {
   "cell_type": "code",
   "execution_count": 39,
   "metadata": {},
   "outputs": [
    {
     "name": "stdout",
     "output_type": "stream",
     "text": [
      "Classifiers to test: ['LogisticRegression', 'RandomForestClassifier', 'DecisionTreeClassifier', 'RidgeClassifier']\n"
     ]
    }
   ],
   "source": [
    "# models to test\n",
    "classifiers = [\n",
    "#     LogisticRegression(solver='liblinear', C=1.0, max_iter=1000, random_state=42),\n",
    "    LogisticRegression(),\n",
    "#     LinearRegression(),\n",
    "#     Ridge(solver=\"sag\", alpha=1.0, random_state=42),\n",
    "    RandomForestClassifier(),\n",
    "#     RandomForestClassifier(n_estimators=10, random_state=42, n_jobs=-1),\n",
    "    DecisionTreeClassifier(),\n",
    "    RidgeClassifier(),\n",
    "#      DecisionTreeClassifier(max_depth=1, random_state=42),\n",
    "#     RandomForestClassifier(n_estimators=10, random_state=42)\n",
    "]\n",
    "# get names of the objects in list (too lazy for c&p...)\n",
    "names = [re.match(r\"[^\\(]+\", name.__str__())[0] for name in classifiers]\n",
    "print(f\"Classifiers to test: {names}\")"
   ]
  },
  {
   "cell_type": "code",
   "execution_count": 40,
   "metadata": {},
   "outputs": [
    {
     "name": "stdout",
     "output_type": "stream",
     "text": [
      "Training classifier: LogisticRegression\n",
      "Training classifier: RandomForestClassifier\n",
      "Training classifier: DecisionTreeClassifier\n",
      "Training classifier: RidgeClassifier\n",
      "Wall time: 5.01 s\n"
     ]
    }
   ],
   "source": [
    "%%time\n",
    "# test all classifiers and save pred. results on test data\n",
    "results = {}\n",
    "for name, clf in zip(names, classifiers):\n",
    "    print(f\"Training classifier: {name}\")\n",
    "    clf.fit(X_train, y_train)\n",
    "    prediction = clf.predict(X_val)\n",
    "    report = classification_report(y_val, prediction)\n",
    "    results[name] = report"
   ]
  },
  {
   "cell_type": "code",
   "execution_count": 41,
   "metadata": {},
   "outputs": [
    {
     "name": "stdout",
     "output_type": "stream",
     "text": [
      "Results for LogisticRegression:\n",
      "              precision    recall  f1-score   support\n",
      "\n",
      "           0       0.70      0.79      0.74      6949\n",
      "           1       0.75      0.66      0.70      6807\n",
      "\n",
      "    accuracy                           0.72     13756\n",
      "   macro avg       0.73      0.72      0.72     13756\n",
      "weighted avg       0.73      0.72      0.72     13756\n",
      "\n",
      "\n",
      "Results for RandomForestClassifier:\n",
      "              precision    recall  f1-score   support\n",
      "\n",
      "           0       0.70      0.73      0.72      6949\n",
      "           1       0.72      0.69      0.70      6807\n",
      "\n",
      "    accuracy                           0.71     13756\n",
      "   macro avg       0.71      0.71      0.71     13756\n",
      "weighted avg       0.71      0.71      0.71     13756\n",
      "\n",
      "\n",
      "Results for DecisionTreeClassifier:\n",
      "              precision    recall  f1-score   support\n",
      "\n",
      "           0       0.69      0.75      0.72      6949\n",
      "           1       0.72      0.65      0.69      6807\n",
      "\n",
      "    accuracy                           0.70     13756\n",
      "   macro avg       0.71      0.70      0.70     13756\n",
      "weighted avg       0.71      0.70      0.70     13756\n",
      "\n",
      "\n",
      "Results for RidgeClassifier:\n",
      "              precision    recall  f1-score   support\n",
      "\n",
      "           0       0.69      0.80      0.74      6949\n",
      "           1       0.76      0.64      0.69      6807\n",
      "\n",
      "    accuracy                           0.72     13756\n",
      "   macro avg       0.73      0.72      0.72     13756\n",
      "weighted avg       0.73      0.72      0.72     13756\n",
      "\n",
      "\n"
     ]
    }
   ],
   "source": [
    "# Prediction results\n",
    "for k, v in results.items():\n",
    "    print(f\"Results for {k}:\")\n",
    "    print(f\"{v}\\n\")"
   ]
  },
  {
   "cell_type": "code",
   "execution_count": null,
   "metadata": {},
   "outputs": [],
   "source": []
  },
  {
   "cell_type": "markdown",
   "metadata": {},
   "source": [
    "#### Logistic Regression"
   ]
  },
  {
   "cell_type": "code",
   "execution_count": 42,
   "metadata": {},
   "outputs": [
    {
     "name": "stdout",
     "output_type": "stream",
     "text": [
      "For 100 \n",
      "\n",
      "C:1 has an accuracy score: 0.7239749927304449 \n",
      "\n",
      "C:2 has an accuracy score: 0.7239022971794126 \n",
      "\n",
      "C:3 has an accuracy score: 0.7239022971794126 \n",
      "\n",
      "C:4 has an accuracy score: 0.7239022971794126 \n",
      "\n",
      "For 110 \n",
      "\n",
      "C:1 has an accuracy score: 0.7239749927304449 \n",
      "\n",
      "C:2 has an accuracy score: 0.7239022971794126 \n",
      "\n",
      "C:3 has an accuracy score: 0.7239022971794126 \n",
      "\n",
      "C:4 has an accuracy score: 0.7239022971794126 \n",
      "\n",
      "For 120 \n",
      "\n",
      "C:1 has an accuracy score: 0.7239749927304449 \n",
      "\n",
      "C:2 has an accuracy score: 0.7239022971794126 \n",
      "\n",
      "C:3 has an accuracy score: 0.7239022971794126 \n",
      "\n",
      "C:4 has an accuracy score: 0.7239022971794126 \n",
      "\n",
      "For 130 \n",
      "\n",
      "C:1 has an accuracy score: 0.7239749927304449 \n",
      "\n",
      "C:2 has an accuracy score: 0.7239022971794126 \n",
      "\n",
      "C:3 has an accuracy score: 0.7239022971794126 \n",
      "\n",
      "C:4 has an accuracy score: 0.7239022971794126 \n",
      "\n",
      "For 140 \n",
      "\n",
      "C:1 has an accuracy score: 0.7239749927304449 \n",
      "\n",
      "C:2 has an accuracy score: 0.7239022971794126 \n",
      "\n",
      "C:3 has an accuracy score: 0.7239022971794126 \n",
      "\n",
      "C:4 has an accuracy score: 0.7239022971794126 \n",
      "\n"
     ]
    }
   ],
   "source": [
    "for i in range(100, 150, 10):\n",
    "    print(f'For {i} \\n')\n",
    "    for n in range(1, 5, 1):\n",
    "        lr = LogisticRegression(solver='liblinear', C= n, max_iter= i)\n",
    "\n",
    "        lr.fit(X_train, y_train)\n",
    "\n",
    "        lr_score = lr.score(X_val, y_val)\n",
    "\n",
    "        print(f'C:{n} has an accuracy score: {lr_score} \\n')"
   ]
  },
  {
   "cell_type": "markdown",
   "metadata": {},
   "source": [
    "##### Highest accuracy score of 0.7239 with `max_iter = 100 and C=1.0`"
   ]
  },
  {
   "cell_type": "code",
   "execution_count": 43,
   "metadata": {},
   "outputs": [
    {
     "name": "stdout",
     "output_type": "stream",
     "text": [
      "              precision    recall  f1-score   support\n",
      "\n",
      "           0       0.70      0.79      0.74      6949\n",
      "           1       0.75      0.66      0.70      6807\n",
      "\n",
      "    accuracy                           0.72     13756\n",
      "   macro avg       0.73      0.72      0.72     13756\n",
      "weighted avg       0.73      0.72      0.72     13756\n",
      "\n"
     ]
    }
   ],
   "source": [
    "model = LogisticRegression(solver='liblinear', C= 1, max_iter= 100)\n",
    "model.fit(X_train, y_train)\n",
    "lr_pred = model.predict(X_val)\n",
    "lr_class = classification_report(y_val, lr_pred)\n",
    "print(lr_class)"
   ]
  },
  {
   "cell_type": "code",
   "execution_count": null,
   "metadata": {},
   "outputs": [],
   "source": []
  },
  {
   "cell_type": "code",
   "execution_count": null,
   "metadata": {},
   "outputs": [],
   "source": []
  },
  {
   "cell_type": "markdown",
   "metadata": {},
   "source": [
    "##### Random Forest"
   ]
  },
  {
   "cell_type": "code",
   "execution_count": 44,
   "metadata": {},
   "outputs": [
    {
     "name": "stdout",
     "output_type": "stream",
     "text": [
      "For max-depth 5: \n",
      "\n",
      "150 estimator has an accuray_score: 0.7229572550159931\n",
      "160 estimator has an accuray_score: 0.7229572550159931\n",
      "170 estimator has an accuray_score: 0.7230299505670253\n",
      "180 estimator has an accuray_score: 0.7233207327711544\n",
      "190 estimator has an accuray_score: 0.7232480372201221\n",
      "200 estimator has an accuray_score: 0.7231753416690898\n",
      "--------------- \n",
      "\n",
      "For max-depth 10: \n",
      "\n",
      "150 estimator has an accuray_score: 0.7255015993021227\n",
      "160 estimator has an accuray_score: 0.7255015993021227\n",
      "170 estimator has an accuray_score: 0.7255015993021227\n",
      "180 estimator has an accuray_score: 0.7253562082000582\n",
      "190 estimator has an accuray_score: 0.7253562082000582\n",
      "200 estimator has an accuray_score: 0.7255015993021227\n",
      "--------------- \n",
      "\n",
      "For max-depth 15: \n",
      "\n",
      "150 estimator has an accuray_score: 0.714815353300378\n",
      "160 estimator has an accuray_score: 0.7145972666472812\n",
      "170 estimator has an accuray_score: 0.7147426577493458\n",
      "180 estimator has an accuray_score: 0.7134341378307647\n",
      "190 estimator has an accuray_score: 0.7147426577493458\n",
      "200 estimator has an accuray_score: 0.7148880488514103\n",
      "--------------- \n",
      "\n"
     ]
    }
   ],
   "source": [
    "for depth in [5,10,15]:\n",
    "    print(f'For max-depth {depth}: \\n')\n",
    "    for n in range(150, 201, 10):\n",
    "        model = RandomForestClassifier(n_estimators=n, random_state=42, n_jobs=-1, max_depth = depth)\n",
    "        model.fit(X_train, y_train)\n",
    "        rf_score = model.score(X_val, y_val)\n",
    "        print(f'{n} estimator has an accuray_score: {rf_score}')\n",
    "    print('--------------- \\n')"
   ]
  },
  {
   "cell_type": "markdown",
   "metadata": {},
   "source": [
    "#### Highest accuracy score of 0.7233 with `max_depth = 5 and n_estimator=180`"
   ]
  },
  {
   "cell_type": "code",
   "execution_count": 45,
   "metadata": {},
   "outputs": [
    {
     "name": "stdout",
     "output_type": "stream",
     "text": [
      "              precision    recall  f1-score   support\n",
      "\n",
      "           0       0.69      0.82      0.75      6949\n",
      "           1       0.77      0.63      0.69      6807\n",
      "\n",
      "    accuracy                           0.72     13756\n",
      "   macro avg       0.73      0.72      0.72     13756\n",
      "weighted avg       0.73      0.72      0.72     13756\n",
      "\n"
     ]
    }
   ],
   "source": [
    "model = RandomForestClassifier(n_estimators=180, random_state=42, n_jobs=-1, max_depth = 5)\n",
    "model.fit(X_train, y_train)\n",
    "rf_pred = model.predict(X_val)\n",
    "rf_class = classification_report(y_val, rf_pred)\n",
    "print(rf_class)"
   ]
  },
  {
   "cell_type": "code",
   "execution_count": null,
   "metadata": {},
   "outputs": [],
   "source": []
  },
  {
   "cell_type": "markdown",
   "metadata": {},
   "source": [
    "##### Decision Tree"
   ]
  },
  {
   "cell_type": "code",
   "execution_count": 46,
   "metadata": {},
   "outputs": [
    {
     "name": "stdout",
     "output_type": "stream",
     "text": [
      "For max-depth 5: \n",
      "\n",
      "with max_leaf_nodes, 150 has an accuray_score: 0.7244111660366386\n",
      "with max_leaf_nodes, 160 has an accuray_score: 0.7244111660366386\n",
      "with max_leaf_nodes, 170 has an accuray_score: 0.7244111660366386\n",
      "with max_leaf_nodes, 180 has an accuray_score: 0.7244111660366386\n",
      "with max_leaf_nodes, 190 has an accuray_score: 0.7244111660366386\n",
      "with max_leaf_nodes, 200 has an accuray_score: 0.7244111660366386\n",
      "--------------- \n",
      "\n",
      "For max-depth 10: \n",
      "\n",
      "with max_leaf_nodes, 150 has an accuray_score: 0.7249927304448968\n",
      "with max_leaf_nodes, 160 has an accuray_score: 0.7249200348938645\n",
      "with max_leaf_nodes, 170 has an accuray_score: 0.725065425995929\n",
      "with max_leaf_nodes, 180 has an accuray_score: 0.7255742948531549\n",
      "with max_leaf_nodes, 190 has an accuray_score: 0.7256469904041872\n",
      "with max_leaf_nodes, 200 has an accuray_score: 0.7256469904041872\n",
      "--------------- \n",
      "\n",
      "For max-depth 15: \n",
      "\n",
      "with max_leaf_nodes, 150 has an accuray_score: 0.7215033439953474\n",
      "with max_leaf_nodes, 160 has an accuray_score: 0.7217214306484443\n",
      "with max_leaf_nodes, 170 has an accuray_score: 0.7222302995056703\n",
      "with max_leaf_nodes, 180 has an accuray_score: 0.7220849084036057\n",
      "with max_leaf_nodes, 190 has an accuray_score: 0.7220122128525734\n",
      "with max_leaf_nodes, 200 has an accuray_score: 0.722157603954638\n",
      "--------------- \n",
      "\n"
     ]
    }
   ],
   "source": [
    "for depth in [5,10,15]:\n",
    "    print(f'For max-depth {depth}: \\n')\n",
    "    for n in range(150, 201, 10):\n",
    "        model = DecisionTreeClassifier(max_depth=depth, max_leaf_nodes=n, random_state=42)\n",
    "        model.fit(X_train, y_train)\n",
    "        rf_score = model.score(X_val, y_val)\n",
    "        print(f'with max_leaf_nodes, {n} has an accuray_score: {rf_score}')\n",
    "    print('--------------- \\n')"
   ]
  },
  {
   "cell_type": "markdown",
   "metadata": {},
   "source": [
    "#### Highest accuracy score of 0.7256 with `max_depth = 10 and max_leaf_nodes=200`"
   ]
  },
  {
   "cell_type": "code",
   "execution_count": 47,
   "metadata": {},
   "outputs": [
    {
     "name": "stdout",
     "output_type": "stream",
     "text": [
      "              precision    recall  f1-score   support\n",
      "\n",
      "           0       0.72      0.76      0.74      6949\n",
      "           1       0.74      0.69      0.71      6807\n",
      "\n",
      "    accuracy                           0.73     13756\n",
      "   macro avg       0.73      0.73      0.73     13756\n",
      "weighted avg       0.73      0.73      0.73     13756\n",
      "\n"
     ]
    }
   ],
   "source": [
    "model = DecisionTreeClassifier(max_depth=10, max_leaf_nodes=200, random_state=42)\n",
    "model.fit(X_train, y_train)\n",
    "dt_pred = model.predict(X_val)\n",
    "dt_class = classification_report(y_val, dt_pred)\n",
    "print(dt_class)"
   ]
  },
  {
   "cell_type": "code",
   "execution_count": null,
   "metadata": {},
   "outputs": [],
   "source": []
  },
  {
   "cell_type": "markdown",
   "metadata": {},
   "source": [
    "##### Ridge Classifier"
   ]
  },
  {
   "cell_type": "code",
   "execution_count": 48,
   "metadata": {},
   "outputs": [
    {
     "name": "stdout",
     "output_type": "stream",
     "text": [
      "for alpha = 0.001, accuracy score is 0.7214306484443153\n",
      "for alpha = 0.01, accuracy score is 0.7214306484443153\n",
      "for alpha = 0.1, accuracy score is 0.7214306484443153\n",
      "for alpha = 1, accuracy score is 0.7214306484443153\n",
      "for alpha = 10, accuracy score is 0.7214306484443153\n"
     ]
    }
   ],
   "source": [
    "for i in [0.001, 0.01, 0.1, 1, 10]:\n",
    "    rcl = RidgeClassifier(solver=\"sag\", alpha=0.01, random_state=42)\n",
    "\n",
    "    rcl.fit(X_train, y_train)\n",
    "\n",
    "    rcl_score = rcl.score(X_val, y_val)\n",
    "\n",
    "    print(f'for alpha = {i}, accuracy score is {rcl_score}')"
   ]
  },
  {
   "cell_type": "markdown",
   "metadata": {},
   "source": [
    "##### Highest accuracy score of 0.7214"
   ]
  },
  {
   "cell_type": "code",
   "execution_count": 49,
   "metadata": {},
   "outputs": [
    {
     "name": "stdout",
     "output_type": "stream",
     "text": [
      "              precision    recall  f1-score   support\n",
      "\n",
      "           0       0.69      0.80      0.74      6949\n",
      "           1       0.76      0.64      0.69      6807\n",
      "\n",
      "    accuracy                           0.72     13756\n",
      "   macro avg       0.73      0.72      0.72     13756\n",
      "weighted avg       0.73      0.72      0.72     13756\n",
      "\n"
     ]
    }
   ],
   "source": [
    "model = RidgeClassifier(solver=\"sag\", alpha=0.01, random_state=42)\n",
    "model.fit(X_train, y_train)\n",
    "rd_pred = model.predict(X_val)\n",
    "rd_class = classification_report(y_val, rd_pred)\n",
    "print(rd_class)"
   ]
  },
  {
   "cell_type": "code",
   "execution_count": null,
   "metadata": {},
   "outputs": [],
   "source": []
  },
  {
   "cell_type": "code",
   "execution_count": null,
   "metadata": {},
   "outputs": [],
   "source": []
  },
  {
   "cell_type": "markdown",
   "metadata": {},
   "source": [
    "### Cross Validation"
   ]
  },
  {
   "cell_type": "markdown",
   "metadata": {},
   "source": [
    "##### K-Fold validation was performed across all models "
   ]
  },
  {
   "cell_type": "code",
   "execution_count": 50,
   "metadata": {},
   "outputs": [],
   "source": [
    "def train(data_train, y_train, C=1.0):\n",
    "    dicts = data_train[categorical_cols + numerical_cols].to_dict(orient='records')\n",
    "\n",
    "    dv = DictVectorizer(sparse=False)\n",
    "    X_train = dv.fit_transform(dicts)\n",
    "\n",
    "    model = LogisticRegression(solver='liblinear', C= 1, max_iter= 100)\n",
    "    model.fit(X_train, y_train)\n",
    "    \n",
    "    return dv, model"
   ]
  },
  {
   "cell_type": "code",
   "execution_count": 51,
   "metadata": {},
   "outputs": [],
   "source": [
    "def predict(data, dv, model):\n",
    "    dicts = data[categorical_cols + numerical_cols].to_dict(orient='records')\n",
    "\n",
    "    X = dv.transform(dicts)\n",
    "    y_pred = model.predict_proba(X)[:, 1]\n",
    "\n",
    "    return y_pred"
   ]
  },
  {
   "cell_type": "code",
   "execution_count": 52,
   "metadata": {},
   "outputs": [
    {
     "data": {
      "application/vnd.jupyter.widget-view+json": {
       "model_id": "83e3d4ea9fd34fc4b5fd08f1d934e643",
       "version_major": 2,
       "version_minor": 0
      },
      "text/plain": [
       "HBox(children=(FloatProgress(value=0.0, max=4.0), HTML(value='')))"
      ]
     },
     "metadata": {},
     "output_type": "display_data"
    },
    {
     "name": "stdout",
     "output_type": "stream",
     "text": [
      "C=0.01 0.697 +- 0.003\n",
      "C=0.1 0.697 +- 0.003\n",
      "C=0.5 0.697 +- 0.003\n",
      "C=10 0.697 +- 0.003\n",
      "\n"
     ]
    }
   ],
   "source": [
    "n_splits = 5\n",
    "pred_models = [lr_pred, rf_pred, dt_pred, rd_pred]\n",
    "\n",
    "for C in tqdm([0.01, 0.1, 0.5, 10]):\n",
    "    kfold = KFold(n_splits=n_splits, shuffle=True, random_state=1)\n",
    "\n",
    "    scores = []\n",
    "\n",
    "    for train_idx, val_idx in kfold.split(data_full_train):\n",
    "        data_train = data_full_train.iloc[train_idx]\n",
    "        data_val = data_full_train.iloc[val_idx]\n",
    "\n",
    "        y_train = data_train.cardio_status.values\n",
    "        y_val = data_val.cardio_status.values\n",
    "        \n",
    "        dv, model = train(data_train, y_train, C=C)\n",
    "        y_pred = predict(data_val, dv, model)\n",
    "        \n",
    "        \n",
    "        auc = f1_score(y_val, np.round(y_pred))\n",
    "        scores.append(auc)\n",
    "            \n",
    "\n",
    "    print('C=%s %.3f +- %.3f' % (C, np.mean(scores), np.std(scores)))"
   ]
  },
  {
   "cell_type": "markdown",
   "metadata": {},
   "source": [
    "#### `The Logistic Regression model performed best with the mean of F1 score of cross validated results`"
   ]
  },
  {
   "cell_type": "code",
   "execution_count": null,
   "metadata": {},
   "outputs": [],
   "source": []
  },
  {
   "cell_type": "markdown",
   "metadata": {},
   "source": [
    "### Prediction"
   ]
  },
  {
   "cell_type": "code",
   "execution_count": 53,
   "metadata": {},
   "outputs": [],
   "source": [
    "dicts_full_train = data_full_train[numerical_cols + categorical_cols].to_dict(orient='records')"
   ]
  },
  {
   "cell_type": "code",
   "execution_count": 54,
   "metadata": {},
   "outputs": [],
   "source": [
    "dv = DictVectorizer(sparse=False)\n",
    "X_full_train = dv.fit_transform(dicts_full_train)"
   ]
  },
  {
   "cell_type": "code",
   "execution_count": 55,
   "metadata": {},
   "outputs": [],
   "source": [
    "y_full_train = data_full_train.cardio_status.values"
   ]
  },
  {
   "cell_type": "code",
   "execution_count": 66,
   "metadata": {},
   "outputs": [
    {
     "data": {
      "text/plain": [
       "LogisticRegression(C=1, solver='liblinear')"
      ]
     },
     "execution_count": 66,
     "metadata": {},
     "output_type": "execute_result"
    }
   ],
   "source": [
    "modellr = LogisticRegression(solver='liblinear', C= 1, max_iter= 100)\n",
    "modellr.fit(X_full_train, y_full_train)"
   ]
  },
  {
   "cell_type": "code",
   "execution_count": 67,
   "metadata": {},
   "outputs": [],
   "source": [
    "dicts_test = data_test[numerical_cols + categorical_cols].to_dict(orient='records')\n",
    "X_test = dv.transform(dicts_test)"
   ]
  },
  {
   "cell_type": "code",
   "execution_count": 68,
   "metadata": {},
   "outputs": [
    {
     "name": "stdout",
     "output_type": "stream",
     "text": [
      "              precision    recall  f1-score   support\n",
      "\n",
      "           0       0.70      0.79      0.74      6926\n",
      "           1       0.76      0.65      0.70      6831\n",
      "\n",
      "    accuracy                           0.72     13757\n",
      "   macro avg       0.73      0.72      0.72     13757\n",
      "weighted avg       0.73      0.72      0.72     13757\n",
      "\n",
      "\n",
      " Accuracy score of 0.7232681543941266 with Logistic Regression\n"
     ]
    }
   ],
   "source": [
    "lr_pred = modellr.predict(X_test)\n",
    "lr_class = classification_report(y_test, lr_pred)\n",
    "lr_score = accuracy_score(y_test, lr_pred)\n",
    "print(lr_class)\n",
    "print(f'\\n Accuracy score of {lr_score} with Logistic Regression')"
   ]
  },
  {
   "cell_type": "code",
   "execution_count": null,
   "metadata": {},
   "outputs": [],
   "source": []
  },
  {
   "cell_type": "code",
   "execution_count": 70,
   "metadata": {},
   "outputs": [],
   "source": [
    "import pickle"
   ]
  },
  {
   "cell_type": "code",
   "execution_count": 71,
   "metadata": {},
   "outputs": [
    {
     "name": "stdout",
     "output_type": "stream",
     "text": [
      "the model is saved to modellr.pkl\n"
     ]
    }
   ],
   "source": [
    "with open('modellr.pkl', 'wb') as f_out:\n",
    "    pickle.dump((dv, modellr), f_out)\n",
    "\n",
    "print(f'the model is saved to modellr.pkl')"
   ]
  },
  {
   "cell_type": "code",
   "execution_count": null,
   "metadata": {},
   "outputs": [],
   "source": []
  },
  {
   "cell_type": "code",
   "execution_count": null,
   "metadata": {},
   "outputs": [],
   "source": []
  },
  {
   "cell_type": "code",
   "execution_count": null,
   "metadata": {},
   "outputs": [],
   "source": []
  }
 ],
 "metadata": {
  "kernelspec": {
   "display_name": "Python 3",
   "language": "python",
   "name": "python3"
  },
  "language_info": {
   "codemirror_mode": {
    "name": "ipython",
    "version": 3
   },
   "file_extension": ".py",
   "mimetype": "text/x-python",
   "name": "python",
   "nbconvert_exporter": "python",
   "pygments_lexer": "ipython3",
   "version": "3.6.1"
  }
 },
 "nbformat": 4,
 "nbformat_minor": 4
}
