{
 "cells": [
  {
   "cell_type": "markdown",
   "metadata": {},
   "source": [
    "## PROJECT"
   ]
  },
  {
   "cell_type": "code",
   "execution_count": null,
   "metadata": {},
   "outputs": [],
   "source": []
  },
  {
   "cell_type": "markdown",
   "metadata": {},
   "source": [
    "### Observation\n",
    "\n",
    "`Age` - The values of 'age' column is in unit of days. So, this will be changed to years for better understanding.\n",
    "\n",
    "`Gender` - The values of 'gender' column are 1 and 2. In this, '1' is indicated as women and '2' as men. For better computation, the column name should be changed from 'gender' to 'male' and the values should be changed into 0 as women and 1 as men.\n",
    "\n",
    "`Height` - The unit of height is in centimeter (cm). There are various incorrect values recorded in the dataset which cannot be considerd as height. So these outliers should be removed and only the normal human height of the patients should be considered. Those with abnormal small heights (risk of Achondroplasia or dwarfism) and tall heights (risk of atrial fibrillation) may have confirmed risk of cardiovascular diseases from an early stage of their life, which would affect the data analysis for the focused parameters.\n",
    "\n",
    "`Weight` - The values of 'weight' column is in unit of kilogram (kg).\n",
    "\n",
    "`BMI (Body-mass index)` - A column of bmi and bmi_class is required to better understand the healthy weight parameter of the patients in terms of their height. We use the parameters provided by The Canadian Diabetes Association (https://www.diabetes.ca/resources/tools---resources/body-mass-index-(bmi)-calculator#:~:text=The%20formula%20is%20BMI%20%3D%20kg,most%20adults%2018%2D65%20years.)\n",
    "\n",
    "`Blood pressure (ap_hi / ap_lo)` - The unit of blood pressure can be assumed to be in mmHg. The minimum value of blood pressure is negative which is highly unlikely as normal blood pressure should be between 120/90mmHg (meaning Systolic pressure of 120mmHg and Diastolic pressure of 90mmHg). Blood pressure readings will be classified based on Medical News Today (https://www.medicalnewstoday.com/articles/327077).\n",
    "\n",
    "`Cholesterol` - The cholesterol level are indicated as 1, 2 and 3, where 1 is normal, 2 is above normal and 3 is well above normal. For better computation, it should be changed into 0 as normal, 1 as above normal and 2 as well above normal.\n",
    "\n",
    "`Glucose` - The glucose level are indicated as 1, 2 and 3, where 1 is normal, 2 is above normal and 3 is well above normal. For better computation, it should be changed into 0 as normal, 1 as above normal and 2 as well above normal.\n",
    "\n",
    "`Smokin` - In the 'smoke' column, the value '0' means that the patient don't smokes and value '1' means that the patient smokes.\n",
    "\n",
    "`Alcohol consumption` - In the 'alco' column, the value '0' means that the patient don't drink alcohol and value '1' means that the patient drink alcohol. The name of column should be changed into 'alcohol_intake' for better understanding.\n",
    "\n",
    "`Physical activity` - In the 'active' column, the value '0' means that the patient is non-active and '1' means that the patient is active.\n",
    "\n",
    "`The information about smoking, alcohol consumption and physical activity are subjective features which are given by the patients. These data may not be reliable but can provide a better insight of patient conditions.`\n",
    "\n",
    "`Cardiovascular disease occurrence` - This is a target variable which provides the information about the presence or absence of cardiovascular disease. In the 'cardio' column, the value '0' means absence of cardiovascular disease and '1' means presence of cardiovascular disease. The name of this 'cardio' column should be changed into 'cvd' for better understanding. In this dataset, near about half of the subjects have cardiovascular diseases."
   ]
  },
  {
   "cell_type": "code",
   "execution_count": 45,
   "metadata": {},
   "outputs": [],
   "source": [
    "#Import Libraries\n",
    "import pandas as pd\n",
    "import numpy as np\n",
    "\n",
    "pd.set_option('display.max_rows', 800)\n",
    "pd.set_option('display.max_columns', 500)\n",
    "\n",
    "import matplotlib.pyplot as plt\n",
    "import matplotlib as mpl\n",
    "import seaborn as sns\n",
    "sns.set()\n",
    "\n",
    "import warnings\n",
    "warnings.filterwarnings('ignore')\n",
    "\n",
    "from sklearn.model_selection import train_test_split\n",
    "from sklearn.metrics import confusion_matrix \n",
    "from sklearn.metrics import classification_report \n",
    "from sklearn.metrics import accuracy_score \n",
    "from sklearn.linear_model import LogisticRegression\n",
    "from sklearn.linear_model import LinearRegression\n",
    "from sklearn.tree import DecisionTreeClassifier\n",
    "from sklearn.ensemble import RandomForestClassifier\n",
    "from sklearn.feature_extraction import DictVectorizer\n",
    "from sklearn.metrics import roc_curve\n",
    "from sklearn.metrics import roc_auc_score\n",
    "from sklearn.metrics import mean_squared_error\n",
    "from sklearn.metrics import mutual_info_score\n",
    "from sklearn.linear_model import RidgeClassifier\n",
    "\n",
    "from sklearn.model_selection import cross_val_score\n",
    "from sklearn.metrics import precision_recall_curve\n",
    "\n",
    "import re\n",
    "\n",
    "import xgboost as xgb"
   ]
  },
  {
   "cell_type": "code",
   "execution_count": null,
   "metadata": {},
   "outputs": [],
   "source": []
  },
  {
   "cell_type": "code",
   "execution_count": 46,
   "metadata": {},
   "outputs": [],
   "source": [
    "df = pd.read_csv(\"C:/Users/Co/Desktop/ML Project DataKlub/cardio_train.csv\", sep=';')"
   ]
  },
  {
   "cell_type": "code",
   "execution_count": 47,
   "metadata": {},
   "outputs": [
    {
     "data": {
      "text/plain": [
       "Index(['id', 'age', 'gender', 'height', 'weight', 'ap_hi', 'ap_lo',\n",
       "       'cholesterol', 'gluc', 'smoke', 'alco', 'active', 'cardio'],\n",
       "      dtype='object')"
      ]
     },
     "execution_count": 47,
     "metadata": {},
     "output_type": "execute_result"
    }
   ],
   "source": [
    "df.columns"
   ]
  },
  {
   "cell_type": "code",
   "execution_count": 48,
   "metadata": {},
   "outputs": [
    {
     "data": {
      "text/html": [
       "<div>\n",
       "<style scoped>\n",
       "    .dataframe tbody tr th:only-of-type {\n",
       "        vertical-align: middle;\n",
       "    }\n",
       "\n",
       "    .dataframe tbody tr th {\n",
       "        vertical-align: top;\n",
       "    }\n",
       "\n",
       "    .dataframe thead th {\n",
       "        text-align: right;\n",
       "    }\n",
       "</style>\n",
       "<table border=\"1\" class=\"dataframe\">\n",
       "  <thead>\n",
       "    <tr style=\"text-align: right;\">\n",
       "      <th></th>\n",
       "      <th>id</th>\n",
       "      <th>age</th>\n",
       "      <th>gender</th>\n",
       "      <th>height</th>\n",
       "      <th>weight</th>\n",
       "      <th>ap_hi</th>\n",
       "      <th>ap_lo</th>\n",
       "      <th>cholesterol</th>\n",
       "      <th>gluc</th>\n",
       "      <th>smoke</th>\n",
       "      <th>alco</th>\n",
       "      <th>active</th>\n",
       "      <th>cardio</th>\n",
       "    </tr>\n",
       "  </thead>\n",
       "  <tbody>\n",
       "    <tr>\n",
       "      <th>0</th>\n",
       "      <td>0</td>\n",
       "      <td>18393</td>\n",
       "      <td>2</td>\n",
       "      <td>168</td>\n",
       "      <td>62.0</td>\n",
       "      <td>110</td>\n",
       "      <td>80</td>\n",
       "      <td>1</td>\n",
       "      <td>1</td>\n",
       "      <td>0</td>\n",
       "      <td>0</td>\n",
       "      <td>1</td>\n",
       "      <td>0</td>\n",
       "    </tr>\n",
       "    <tr>\n",
       "      <th>1</th>\n",
       "      <td>1</td>\n",
       "      <td>20228</td>\n",
       "      <td>1</td>\n",
       "      <td>156</td>\n",
       "      <td>85.0</td>\n",
       "      <td>140</td>\n",
       "      <td>90</td>\n",
       "      <td>3</td>\n",
       "      <td>1</td>\n",
       "      <td>0</td>\n",
       "      <td>0</td>\n",
       "      <td>1</td>\n",
       "      <td>1</td>\n",
       "    </tr>\n",
       "    <tr>\n",
       "      <th>2</th>\n",
       "      <td>2</td>\n",
       "      <td>18857</td>\n",
       "      <td>1</td>\n",
       "      <td>165</td>\n",
       "      <td>64.0</td>\n",
       "      <td>130</td>\n",
       "      <td>70</td>\n",
       "      <td>3</td>\n",
       "      <td>1</td>\n",
       "      <td>0</td>\n",
       "      <td>0</td>\n",
       "      <td>0</td>\n",
       "      <td>1</td>\n",
       "    </tr>\n",
       "    <tr>\n",
       "      <th>3</th>\n",
       "      <td>3</td>\n",
       "      <td>17623</td>\n",
       "      <td>2</td>\n",
       "      <td>169</td>\n",
       "      <td>82.0</td>\n",
       "      <td>150</td>\n",
       "      <td>100</td>\n",
       "      <td>1</td>\n",
       "      <td>1</td>\n",
       "      <td>0</td>\n",
       "      <td>0</td>\n",
       "      <td>1</td>\n",
       "      <td>1</td>\n",
       "    </tr>\n",
       "    <tr>\n",
       "      <th>4</th>\n",
       "      <td>4</td>\n",
       "      <td>17474</td>\n",
       "      <td>1</td>\n",
       "      <td>156</td>\n",
       "      <td>56.0</td>\n",
       "      <td>100</td>\n",
       "      <td>60</td>\n",
       "      <td>1</td>\n",
       "      <td>1</td>\n",
       "      <td>0</td>\n",
       "      <td>0</td>\n",
       "      <td>0</td>\n",
       "      <td>0</td>\n",
       "    </tr>\n",
       "  </tbody>\n",
       "</table>\n",
       "</div>"
      ],
      "text/plain": [
       "   id    age  gender  height  weight  ap_hi  ap_lo  cholesterol  gluc  smoke  \\\n",
       "0   0  18393       2     168    62.0    110     80            1     1      0   \n",
       "1   1  20228       1     156    85.0    140     90            3     1      0   \n",
       "2   2  18857       1     165    64.0    130     70            3     1      0   \n",
       "3   3  17623       2     169    82.0    150    100            1     1      0   \n",
       "4   4  17474       1     156    56.0    100     60            1     1      0   \n",
       "\n",
       "   alco  active  cardio  \n",
       "0     0       1       0  \n",
       "1     0       1       1  \n",
       "2     0       0       1  \n",
       "3     0       1       1  \n",
       "4     0       0       0  "
      ]
     },
     "execution_count": 48,
     "metadata": {},
     "output_type": "execute_result"
    }
   ],
   "source": [
    "df.head()"
   ]
  },
  {
   "cell_type": "code",
   "execution_count": 49,
   "metadata": {},
   "outputs": [
    {
     "data": {
      "text/plain": [
       "id               int64\n",
       "age              int64\n",
       "gender           int64\n",
       "height           int64\n",
       "weight         float64\n",
       "ap_hi            int64\n",
       "ap_lo            int64\n",
       "cholesterol      int64\n",
       "gluc             int64\n",
       "smoke            int64\n",
       "alco             int64\n",
       "active           int64\n",
       "cardio           int64\n",
       "dtype: object"
      ]
     },
     "execution_count": 49,
     "metadata": {},
     "output_type": "execute_result"
    }
   ],
   "source": [
    "df.dtypes"
   ]
  },
  {
   "cell_type": "code",
   "execution_count": 50,
   "metadata": {},
   "outputs": [
    {
     "name": "stdout",
     "output_type": "stream",
     "text": [
      "<class 'pandas.core.frame.DataFrame'>\n",
      "RangeIndex: 70000 entries, 0 to 69999\n",
      "Data columns (total 13 columns):\n",
      " #   Column       Non-Null Count  Dtype  \n",
      "---  ------       --------------  -----  \n",
      " 0   id           70000 non-null  int64  \n",
      " 1   age          70000 non-null  int64  \n",
      " 2   gender       70000 non-null  int64  \n",
      " 3   height       70000 non-null  int64  \n",
      " 4   weight       70000 non-null  float64\n",
      " 5   ap_hi        70000 non-null  int64  \n",
      " 6   ap_lo        70000 non-null  int64  \n",
      " 7   cholesterol  70000 non-null  int64  \n",
      " 8   gluc         70000 non-null  int64  \n",
      " 9   smoke        70000 non-null  int64  \n",
      " 10  alco         70000 non-null  int64  \n",
      " 11  active       70000 non-null  int64  \n",
      " 12  cardio       70000 non-null  int64  \n",
      "dtypes: float64(1), int64(12)\n",
      "memory usage: 6.9 MB\n"
     ]
    }
   ],
   "source": [
    "df.info()"
   ]
  },
  {
   "cell_type": "code",
   "execution_count": 51,
   "metadata": {},
   "outputs": [
    {
     "data": {
      "text/plain": [
       "id             0\n",
       "age            0\n",
       "gender         0\n",
       "height         0\n",
       "weight         0\n",
       "ap_hi          0\n",
       "ap_lo          0\n",
       "cholesterol    0\n",
       "gluc           0\n",
       "smoke          0\n",
       "alco           0\n",
       "active         0\n",
       "cardio         0\n",
       "dtype: int64"
      ]
     },
     "execution_count": 51,
     "metadata": {},
     "output_type": "execute_result"
    }
   ],
   "source": [
    "df.isnull().sum()"
   ]
  },
  {
   "cell_type": "code",
   "execution_count": 52,
   "metadata": {},
   "outputs": [],
   "source": [
    "# df.describe()"
   ]
  },
  {
   "cell_type": "code",
   "execution_count": 53,
   "metadata": {},
   "outputs": [
    {
     "data": {
      "text/plain": [
       "Index(['id', 'age', 'gender', 'height', 'weight', 'ap_hi', 'ap_lo',\n",
       "       'cholesterol', 'gluc', 'smoke', 'alco', 'active', 'cardio'],\n",
       "      dtype='object')"
      ]
     },
     "execution_count": 53,
     "metadata": {},
     "output_type": "execute_result"
    }
   ],
   "source": [
    "df.columns"
   ]
  },
  {
   "cell_type": "code",
   "execution_count": 54,
   "metadata": {},
   "outputs": [
    {
     "data": {
      "text/html": [
       "<div>\n",
       "<style scoped>\n",
       "    .dataframe tbody tr th:only-of-type {\n",
       "        vertical-align: middle;\n",
       "    }\n",
       "\n",
       "    .dataframe tbody tr th {\n",
       "        vertical-align: top;\n",
       "    }\n",
       "\n",
       "    .dataframe thead th {\n",
       "        text-align: right;\n",
       "    }\n",
       "</style>\n",
       "<table border=\"1\" class=\"dataframe\">\n",
       "  <thead>\n",
       "    <tr style=\"text-align: right;\">\n",
       "      <th></th>\n",
       "      <th>id</th>\n",
       "      <th>age</th>\n",
       "      <th>gender</th>\n",
       "      <th>height</th>\n",
       "      <th>weight</th>\n",
       "      <th>ap_hi</th>\n",
       "      <th>ap_lo</th>\n",
       "      <th>cholesterol</th>\n",
       "      <th>glucose</th>\n",
       "      <th>smoke</th>\n",
       "      <th>alcohol_consumption</th>\n",
       "      <th>active</th>\n",
       "      <th>cardio_status</th>\n",
       "    </tr>\n",
       "  </thead>\n",
       "  <tbody>\n",
       "    <tr>\n",
       "      <th>0</th>\n",
       "      <td>0</td>\n",
       "      <td>18393</td>\n",
       "      <td>2</td>\n",
       "      <td>168</td>\n",
       "      <td>62.0</td>\n",
       "      <td>110</td>\n",
       "      <td>80</td>\n",
       "      <td>1</td>\n",
       "      <td>1</td>\n",
       "      <td>0</td>\n",
       "      <td>0</td>\n",
       "      <td>1</td>\n",
       "      <td>0</td>\n",
       "    </tr>\n",
       "    <tr>\n",
       "      <th>1</th>\n",
       "      <td>1</td>\n",
       "      <td>20228</td>\n",
       "      <td>1</td>\n",
       "      <td>156</td>\n",
       "      <td>85.0</td>\n",
       "      <td>140</td>\n",
       "      <td>90</td>\n",
       "      <td>3</td>\n",
       "      <td>1</td>\n",
       "      <td>0</td>\n",
       "      <td>0</td>\n",
       "      <td>1</td>\n",
       "      <td>1</td>\n",
       "    </tr>\n",
       "    <tr>\n",
       "      <th>2</th>\n",
       "      <td>2</td>\n",
       "      <td>18857</td>\n",
       "      <td>1</td>\n",
       "      <td>165</td>\n",
       "      <td>64.0</td>\n",
       "      <td>130</td>\n",
       "      <td>70</td>\n",
       "      <td>3</td>\n",
       "      <td>1</td>\n",
       "      <td>0</td>\n",
       "      <td>0</td>\n",
       "      <td>0</td>\n",
       "      <td>1</td>\n",
       "    </tr>\n",
       "    <tr>\n",
       "      <th>3</th>\n",
       "      <td>3</td>\n",
       "      <td>17623</td>\n",
       "      <td>2</td>\n",
       "      <td>169</td>\n",
       "      <td>82.0</td>\n",
       "      <td>150</td>\n",
       "      <td>100</td>\n",
       "      <td>1</td>\n",
       "      <td>1</td>\n",
       "      <td>0</td>\n",
       "      <td>0</td>\n",
       "      <td>1</td>\n",
       "      <td>1</td>\n",
       "    </tr>\n",
       "    <tr>\n",
       "      <th>4</th>\n",
       "      <td>4</td>\n",
       "      <td>17474</td>\n",
       "      <td>1</td>\n",
       "      <td>156</td>\n",
       "      <td>56.0</td>\n",
       "      <td>100</td>\n",
       "      <td>60</td>\n",
       "      <td>1</td>\n",
       "      <td>1</td>\n",
       "      <td>0</td>\n",
       "      <td>0</td>\n",
       "      <td>0</td>\n",
       "      <td>0</td>\n",
       "    </tr>\n",
       "  </tbody>\n",
       "</table>\n",
       "</div>"
      ],
      "text/plain": [
       "   id    age  gender  height  weight  ap_hi  ap_lo  cholesterol  glucose  \\\n",
       "0   0  18393       2     168    62.0    110     80            1        1   \n",
       "1   1  20228       1     156    85.0    140     90            3        1   \n",
       "2   2  18857       1     165    64.0    130     70            3        1   \n",
       "3   3  17623       2     169    82.0    150    100            1        1   \n",
       "4   4  17474       1     156    56.0    100     60            1        1   \n",
       "\n",
       "   smoke  alcohol_consumption  active  cardio_status  \n",
       "0      0                    0       1              0  \n",
       "1      0                    0       1              1  \n",
       "2      0                    0       0              1  \n",
       "3      0                    0       1              1  \n",
       "4      0                    0       0              0  "
      ]
     },
     "execution_count": 54,
     "metadata": {},
     "output_type": "execute_result"
    }
   ],
   "source": [
    "df.rename(columns={\"gluc\":\"glucose\", \"alco\":\"alcohol_consumption\", \"cardio\":\"cardio_status\"}, inplace=True)\n",
    "df.head()"
   ]
  },
  {
   "cell_type": "code",
   "execution_count": null,
   "metadata": {},
   "outputs": [],
   "source": []
  },
  {
   "cell_type": "code",
   "execution_count": 55,
   "metadata": {
    "scrolled": true
   },
   "outputs": [],
   "source": [
    "# Discarding blood pressure greater than 370/360 mmHg and blood pressure less than 50/20mmHg respectively\n",
    "df = df.loc[(df[\"ap_hi\"] > 50) & (df[\"ap_hi\"] < 370) & (df[\"ap_lo\"] > 20) & (df[\"ap_lo\"] < 360)]\n",
    "df.reset_index(inplace=True)"
   ]
  },
  {
   "cell_type": "code",
   "execution_count": 56,
   "metadata": {},
   "outputs": [
    {
     "data": {
      "text/plain": [
       "(68781, 14)"
      ]
     },
     "execution_count": 56,
     "metadata": {},
     "output_type": "execute_result"
    }
   ],
   "source": [
    "df.shape"
   ]
  },
  {
   "cell_type": "code",
   "execution_count": 57,
   "metadata": {},
   "outputs": [],
   "source": [
    "# function for blood pressure classification\n",
    "def pressure_label(row):\n",
    "    if row['ap_hi'] < 90 and row['ap_lo'] < 60:\n",
    "        return 'Low Blood Pressure'\n",
    "    elif row['ap_hi'] < 120 and row['ap_lo'] < 80:\n",
    "        return \"Normal Blood Pressure\"\n",
    "    elif row['ap_hi'] < 130 and row['ap_lo'] < 80:\n",
    "        return \"Elevated Blood Pressure\"\n",
    "    elif row['ap_hi'] < 140 and row['ap_lo'] < 90:\n",
    "        return \"High BP Stage 1\"\n",
    "    else:\n",
    "        return \"High BP Stage 2\"\n",
    "   "
   ]
  },
  {
   "cell_type": "code",
   "execution_count": 58,
   "metadata": {},
   "outputs": [],
   "source": [
    "df['blood_pressure'] = df.apply(pressure_label, axis=1)"
   ]
  },
  {
   "cell_type": "code",
   "execution_count": 59,
   "metadata": {},
   "outputs": [
    {
     "data": {
      "text/plain": [
       "High BP Stage 1            32460\n",
       "High BP Stage 2            23652\n",
       "Normal Blood Pressure       9542\n",
       "Elevated Blood Pressure     3113\n",
       "Low Blood Pressure            14\n",
       "Name: blood_pressure, dtype: int64"
      ]
     },
     "execution_count": 59,
     "metadata": {},
     "output_type": "execute_result"
    }
   ],
   "source": [
    "df['blood_pressure'].value_counts()"
   ]
  },
  {
   "cell_type": "code",
   "execution_count": 60,
   "metadata": {},
   "outputs": [],
   "source": [
    "# df"
   ]
  },
  {
   "cell_type": "code",
   "execution_count": 61,
   "metadata": {},
   "outputs": [],
   "source": [
    "## change days to years in age column\n",
    "df[\"age\"] = df[\"age\"].apply(lambda x: round(x/365))"
   ]
  },
  {
   "cell_type": "code",
   "execution_count": 62,
   "metadata": {},
   "outputs": [
    {
     "data": {
      "text/plain": [
       "0         True\n",
       "1        False\n",
       "2         True\n",
       "3        False\n",
       "4         True\n",
       "         ...  \n",
       "68776    False\n",
       "68777    False\n",
       "68778    False\n",
       "68779    False\n",
       "68780     True\n",
       "Name: bmi_class, Length: 68781, dtype: bool"
      ]
     },
     "execution_count": 62,
     "metadata": {},
     "output_type": "execute_result"
    }
   ],
   "source": [
    "# Reference from the The Canadian Diabetes Association says that:\n",
    "# Body Mass Index is a simple calculation using a person’s height and weight. \n",
    "# The formula is BMI = kg/m2 where kg is a person’s weight in kilograms and m2 is their height in metres squared.\n",
    "# A BMI of 25.0 or more is overweight, while the healthy range is 18.5 to 24.9. BMI applies to most adults 18-65 years.\n",
    "\n",
    "df[\"bmi\"] = df[\"weight\"] *10000 / ((df[\"height\"])**2)\n",
    "df['bmi_class'] = df['bmi'].apply(lambda x : x < 25)\n",
    "df['bmi_class']"
   ]
  },
  {
   "cell_type": "code",
   "execution_count": 63,
   "metadata": {},
   "outputs": [
    {
     "data": {
      "text/plain": [
       "index                    int64\n",
       "id                       int64\n",
       "age                      int64\n",
       "gender                   int64\n",
       "height                   int64\n",
       "weight                 float64\n",
       "ap_hi                    int64\n",
       "ap_lo                    int64\n",
       "cholesterol              int64\n",
       "glucose                  int64\n",
       "smoke                    int64\n",
       "alcohol_consumption      int64\n",
       "active                   int64\n",
       "cardio_status            int64\n",
       "blood_pressure          object\n",
       "bmi                    float64\n",
       "bmi_class                 bool\n",
       "dtype: object"
      ]
     },
     "execution_count": 63,
     "metadata": {},
     "output_type": "execute_result"
    }
   ],
   "source": [
    "df.dtypes"
   ]
  },
  {
   "cell_type": "code",
   "execution_count": 64,
   "metadata": {},
   "outputs": [],
   "source": [
    "## let's drop the id column which won't contribute to the model using domain knowldedge.\n",
    "df.drop(['id', 'index'], axis=1, inplace=True)"
   ]
  },
  {
   "cell_type": "code",
   "execution_count": 65,
   "metadata": {},
   "outputs": [],
   "source": [
    "## convert \n",
    "df[['weight', 'bmi_class']] = df[['weight', 'bmi_class']] .astype('int64')"
   ]
  },
  {
   "cell_type": "code",
   "execution_count": 66,
   "metadata": {},
   "outputs": [
    {
     "name": "stdout",
     "output_type": "stream",
     "text": [
      "Columns with categorical variables are: ['blood_pressure'] \n",
      "\n",
      "Columns with integer values are: ['age', 'gender', 'height', 'weight', 'ap_hi', 'ap_lo', 'cholesterol', 'glucose', 'smoke', 'alcohol_consumption', 'active', 'cardio_status', 'bmi_class']\n"
     ]
    }
   ],
   "source": [
    "# data variables are object ar boolean\n",
    "\n",
    "cat_cols = list(df.dtypes[df.dtypes == 'object'].index)\n",
    "print(f'Columns with categorical variables are: {cat_cols} \\n')\n",
    "\n",
    "\n",
    "int_cols = list(df.dtypes[df.dtypes == 'int64'].index)\n",
    "print(f'Columns with integer values are: {int_cols}')"
   ]
  },
  {
   "cell_type": "code",
   "execution_count": 67,
   "metadata": {},
   "outputs": [],
   "source": [
    "# int_cols = ['age', 'gender', 'height', 'weight', 'ap_hi', 'ap_lo', 'cholesterol', 'glucose', 'smoke', 'alcohol_consumption', 'active', 'bmi_class', 'cardio_status']\n",
    "# df = df[int_cols]"
   ]
  },
  {
   "cell_type": "code",
   "execution_count": 68,
   "metadata": {},
   "outputs": [],
   "source": [
    "## for better computation, replace 1 with 0, 2 with 1, 3 with 2\n",
    "df[['gender', 'glucose', 'cholesterol']] = df[['gender', 'glucose', 'cholesterol']].apply(lambda x : x-1)"
   ]
  },
  {
   "cell_type": "code",
   "execution_count": 69,
   "metadata": {},
   "outputs": [
    {
     "data": {
      "text/plain": [
       "Index(['age', 'gender', 'height', 'weight', 'ap_hi', 'ap_lo', 'cholesterol',\n",
       "       'glucose', 'smoke', 'alcohol_consumption', 'active', 'cardio_status',\n",
       "       'blood_pressure', 'bmi', 'bmi_class'],\n",
       "      dtype='object')"
      ]
     },
     "execution_count": 69,
     "metadata": {},
     "output_type": "execute_result"
    }
   ],
   "source": [
    "df.columns"
   ]
  },
  {
   "cell_type": "code",
   "execution_count": 71,
   "metadata": {},
   "outputs": [
    {
     "name": "stdout",
     "output_type": "stream",
     "text": [
      "GENDER: \n",
      "\n",
      "0    44795\n",
      "1    23986\n",
      "Name: gender, dtype: int64\n",
      "\n",
      "\n",
      "GLUCOSE: \n",
      "\n",
      "0    58472\n",
      "2     5235\n",
      "1     5074\n",
      "Name: glucose, dtype: int64\n",
      "\n",
      "\n",
      "CHOLESTEROL: \n",
      "\n",
      "0    51581\n",
      "1     9314\n",
      "2     7886\n",
      "Name: cholesterol, dtype: int64\n",
      "\n",
      "\n",
      "SMOKE: \n",
      "\n",
      "0    62728\n",
      "1     6053\n",
      "Name: smoke, dtype: int64\n",
      "\n",
      "\n",
      "ALCOHOL_CONSUMPTION: \n",
      "\n",
      "0    65092\n",
      "1     3689\n",
      "Name: alcohol_consumption, dtype: int64\n",
      "\n",
      "\n",
      "ACTIVE: \n",
      "\n",
      "1    55257\n",
      "0    13524\n",
      "Name: active, dtype: int64\n",
      "\n",
      "\n",
      "BMI_CLASS: \n",
      "\n",
      "0    42805\n",
      "1    25976\n",
      "Name: bmi_class, dtype: int64\n",
      "\n",
      "\n",
      "BLOOD_PRESSURE: \n",
      "\n",
      "High BP Stage 1            32460\n",
      "High BP Stage 2            23652\n",
      "Normal Blood Pressure       9542\n",
      "Elevated Blood Pressure     3113\n",
      "Low Blood Pressure            14\n",
      "Name: blood_pressure, dtype: int64\n",
      "\n",
      "\n",
      "CARDIO_STATUS: \n",
      "\n",
      "0    34741\n",
      "1    34040\n",
      "Name: cardio_status, dtype: int64\n",
      "\n",
      "\n"
     ]
    }
   ],
   "source": [
    "select = ['gender', 'glucose', 'cholesterol', 'smoke', 'alcohol_consumption', 'active', 'bmi_class', 'blood_pressure', 'cardio_status']\n",
    "df_select = df[select]\n",
    "\n",
    "for col in df_select.columns:\n",
    "    gra = df_select[col].value_counts()\n",
    "    print(f'{col.upper()}: \\n')\n",
    "    print(gra)\n",
    "    print('\\n')\n",
    "    "
   ]
  },
  {
   "cell_type": "code",
   "execution_count": 72,
   "metadata": {},
   "outputs": [
    {
     "data": {
      "text/html": [
       "<div>\n",
       "<style scoped>\n",
       "    .dataframe tbody tr th:only-of-type {\n",
       "        vertical-align: middle;\n",
       "    }\n",
       "\n",
       "    .dataframe tbody tr th {\n",
       "        vertical-align: top;\n",
       "    }\n",
       "\n",
       "    .dataframe thead th {\n",
       "        text-align: right;\n",
       "    }\n",
       "</style>\n",
       "<table border=\"1\" class=\"dataframe\">\n",
       "  <thead>\n",
       "    <tr style=\"text-align: right;\">\n",
       "      <th></th>\n",
       "      <th>age</th>\n",
       "      <th>gender</th>\n",
       "      <th>height</th>\n",
       "      <th>weight</th>\n",
       "      <th>ap_hi</th>\n",
       "      <th>ap_lo</th>\n",
       "      <th>cholesterol</th>\n",
       "      <th>glucose</th>\n",
       "      <th>smoke</th>\n",
       "      <th>alcohol_consumption</th>\n",
       "      <th>active</th>\n",
       "      <th>cardio_status</th>\n",
       "      <th>bmi</th>\n",
       "      <th>bmi_class</th>\n",
       "    </tr>\n",
       "  </thead>\n",
       "  <tbody>\n",
       "    <tr>\n",
       "      <th>count</th>\n",
       "      <td>68781.000000</td>\n",
       "      <td>68781.000000</td>\n",
       "      <td>68781.000000</td>\n",
       "      <td>68781.000000</td>\n",
       "      <td>68781.000000</td>\n",
       "      <td>68781.000000</td>\n",
       "      <td>68781.000000</td>\n",
       "      <td>68781.000000</td>\n",
       "      <td>68781.000000</td>\n",
       "      <td>68781.000000</td>\n",
       "      <td>68781.000000</td>\n",
       "      <td>68781.000000</td>\n",
       "      <td>68781.000000</td>\n",
       "      <td>68781.000000</td>\n",
       "    </tr>\n",
       "    <tr>\n",
       "      <th>mean</th>\n",
       "      <td>53.326820</td>\n",
       "      <td>0.348730</td>\n",
       "      <td>164.361684</td>\n",
       "      <td>74.121662</td>\n",
       "      <td>126.615286</td>\n",
       "      <td>81.377561</td>\n",
       "      <td>0.364723</td>\n",
       "      <td>0.225993</td>\n",
       "      <td>0.088004</td>\n",
       "      <td>0.053634</td>\n",
       "      <td>0.803376</td>\n",
       "      <td>0.494904</td>\n",
       "      <td>27.523017</td>\n",
       "      <td>0.377662</td>\n",
       "    </tr>\n",
       "    <tr>\n",
       "      <th>std</th>\n",
       "      <td>6.767516</td>\n",
       "      <td>0.476572</td>\n",
       "      <td>8.185009</td>\n",
       "      <td>14.331393</td>\n",
       "      <td>16.763540</td>\n",
       "      <td>9.688359</td>\n",
       "      <td>0.678980</td>\n",
       "      <td>0.571968</td>\n",
       "      <td>0.283303</td>\n",
       "      <td>0.225296</td>\n",
       "      <td>0.397449</td>\n",
       "      <td>0.499978</td>\n",
       "      <td>6.050164</td>\n",
       "      <td>0.484806</td>\n",
       "    </tr>\n",
       "    <tr>\n",
       "      <th>min</th>\n",
       "      <td>30.000000</td>\n",
       "      <td>0.000000</td>\n",
       "      <td>55.000000</td>\n",
       "      <td>11.000000</td>\n",
       "      <td>60.000000</td>\n",
       "      <td>30.000000</td>\n",
       "      <td>0.000000</td>\n",
       "      <td>0.000000</td>\n",
       "      <td>0.000000</td>\n",
       "      <td>0.000000</td>\n",
       "      <td>0.000000</td>\n",
       "      <td>0.000000</td>\n",
       "      <td>3.471784</td>\n",
       "      <td>0.000000</td>\n",
       "    </tr>\n",
       "    <tr>\n",
       "      <th>25%</th>\n",
       "      <td>48.000000</td>\n",
       "      <td>0.000000</td>\n",
       "      <td>159.000000</td>\n",
       "      <td>65.000000</td>\n",
       "      <td>120.000000</td>\n",
       "      <td>80.000000</td>\n",
       "      <td>0.000000</td>\n",
       "      <td>0.000000</td>\n",
       "      <td>0.000000</td>\n",
       "      <td>0.000000</td>\n",
       "      <td>1.000000</td>\n",
       "      <td>0.000000</td>\n",
       "      <td>23.875115</td>\n",
       "      <td>0.000000</td>\n",
       "    </tr>\n",
       "    <tr>\n",
       "      <th>50%</th>\n",
       "      <td>54.000000</td>\n",
       "      <td>0.000000</td>\n",
       "      <td>165.000000</td>\n",
       "      <td>72.000000</td>\n",
       "      <td>120.000000</td>\n",
       "      <td>80.000000</td>\n",
       "      <td>0.000000</td>\n",
       "      <td>0.000000</td>\n",
       "      <td>0.000000</td>\n",
       "      <td>0.000000</td>\n",
       "      <td>1.000000</td>\n",
       "      <td>0.000000</td>\n",
       "      <td>26.346494</td>\n",
       "      <td>0.000000</td>\n",
       "    </tr>\n",
       "    <tr>\n",
       "      <th>75%</th>\n",
       "      <td>58.000000</td>\n",
       "      <td>1.000000</td>\n",
       "      <td>170.000000</td>\n",
       "      <td>82.000000</td>\n",
       "      <td>140.000000</td>\n",
       "      <td>90.000000</td>\n",
       "      <td>1.000000</td>\n",
       "      <td>0.000000</td>\n",
       "      <td>0.000000</td>\n",
       "      <td>0.000000</td>\n",
       "      <td>1.000000</td>\n",
       "      <td>1.000000</td>\n",
       "      <td>30.119376</td>\n",
       "      <td>1.000000</td>\n",
       "    </tr>\n",
       "    <tr>\n",
       "      <th>max</th>\n",
       "      <td>65.000000</td>\n",
       "      <td>1.000000</td>\n",
       "      <td>250.000000</td>\n",
       "      <td>200.000000</td>\n",
       "      <td>240.000000</td>\n",
       "      <td>190.000000</td>\n",
       "      <td>2.000000</td>\n",
       "      <td>2.000000</td>\n",
       "      <td>1.000000</td>\n",
       "      <td>1.000000</td>\n",
       "      <td>1.000000</td>\n",
       "      <td>1.000000</td>\n",
       "      <td>298.666667</td>\n",
       "      <td>1.000000</td>\n",
       "    </tr>\n",
       "  </tbody>\n",
       "</table>\n",
       "</div>"
      ],
      "text/plain": [
       "                age        gender        height        weight         ap_hi  \\\n",
       "count  68781.000000  68781.000000  68781.000000  68781.000000  68781.000000   \n",
       "mean      53.326820      0.348730    164.361684     74.121662    126.615286   \n",
       "std        6.767516      0.476572      8.185009     14.331393     16.763540   \n",
       "min       30.000000      0.000000     55.000000     11.000000     60.000000   \n",
       "25%       48.000000      0.000000    159.000000     65.000000    120.000000   \n",
       "50%       54.000000      0.000000    165.000000     72.000000    120.000000   \n",
       "75%       58.000000      1.000000    170.000000     82.000000    140.000000   \n",
       "max       65.000000      1.000000    250.000000    200.000000    240.000000   \n",
       "\n",
       "              ap_lo   cholesterol       glucose         smoke  \\\n",
       "count  68781.000000  68781.000000  68781.000000  68781.000000   \n",
       "mean      81.377561      0.364723      0.225993      0.088004   \n",
       "std        9.688359      0.678980      0.571968      0.283303   \n",
       "min       30.000000      0.000000      0.000000      0.000000   \n",
       "25%       80.000000      0.000000      0.000000      0.000000   \n",
       "50%       80.000000      0.000000      0.000000      0.000000   \n",
       "75%       90.000000      1.000000      0.000000      0.000000   \n",
       "max      190.000000      2.000000      2.000000      1.000000   \n",
       "\n",
       "       alcohol_consumption        active  cardio_status           bmi  \\\n",
       "count         68781.000000  68781.000000   68781.000000  68781.000000   \n",
       "mean              0.053634      0.803376       0.494904     27.523017   \n",
       "std               0.225296      0.397449       0.499978      6.050164   \n",
       "min               0.000000      0.000000       0.000000      3.471784   \n",
       "25%               0.000000      1.000000       0.000000     23.875115   \n",
       "50%               0.000000      1.000000       0.000000     26.346494   \n",
       "75%               0.000000      1.000000       1.000000     30.119376   \n",
       "max               1.000000      1.000000       1.000000    298.666667   \n",
       "\n",
       "          bmi_class  \n",
       "count  68781.000000  \n",
       "mean       0.377662  \n",
       "std        0.484806  \n",
       "min        0.000000  \n",
       "25%        0.000000  \n",
       "50%        0.000000  \n",
       "75%        1.000000  \n",
       "max        1.000000  "
      ]
     },
     "execution_count": 72,
     "metadata": {},
     "output_type": "execute_result"
    }
   ],
   "source": [
    "df.describe()"
   ]
  },
  {
   "cell_type": "code",
   "execution_count": null,
   "metadata": {},
   "outputs": [],
   "source": []
  },
  {
   "cell_type": "code",
   "execution_count": null,
   "metadata": {},
   "outputs": [],
   "source": []
  },
  {
   "cell_type": "markdown",
   "metadata": {},
   "source": [
    "## Data Exploration"
   ]
  },
  {
   "cell_type": "markdown",
   "metadata": {},
   "source": [
    "### Age"
   ]
  },
  {
   "cell_type": "code",
   "execution_count": 81,
   "metadata": {
    "collapsed": true
   },
   "outputs": [
    {
     "name": "stdout",
     "output_type": "stream",
     "text": [
      "56    6031\n",
      "54    5988\n",
      "58    5702\n",
      "60    5465\n",
      "52    5303\n",
      "50    5267\n",
      "62    3926\n",
      "64    3920\n",
      "48    3194\n",
      "46    2955\n",
      "44    2837\n",
      "40    2700\n",
      "42    2624\n",
      "55    1498\n",
      "57    1452\n",
      "53    1407\n",
      "59    1355\n",
      "51    1348\n",
      "61    1221\n",
      "49    1059\n",
      "63    1016\n",
      "41     766\n",
      "45     757\n",
      "47     754\n",
      "43     690\n",
      "39     409\n",
      "65     352\n",
      "30       4\n",
      "Name: age, dtype: int64\n"
     ]
    }
   ],
   "source": [
    "print(df.age.value_counts())\n",
    "# print('')\n",
    "# plt.figure(figsize=(12, 8))\n",
    "# df.age.value_counts().plot(kind='bar')\n",
    "# plt.xticks(rotation=45)\n",
    "# plt.title('Age Distribution', size=20)\n",
    "# plt.show()"
   ]
  },
  {
   "cell_type": "markdown",
   "metadata": {},
   "source": [
    "#### `For truer data visualization of age distribution, we group the ages in range of 10 years against occurence of cardiovascular disease`"
   ]
  },
  {
   "cell_type": "code",
   "execution_count": 73,
   "metadata": {},
   "outputs": [
    {
     "name": "stdout",
     "output_type": "stream",
     "text": [
      "                age  cardio_status\n",
      "age                               \n",
      "(30, 40]  39.869268       0.225691\n",
      "(40, 50]  46.410781       0.386672\n",
      "(50, 60]  55.807311       0.526099\n",
      "(60, 70]  62.832339       0.687372\n",
      " \n"
     ]
    },
    {
     "data": {
      "image/png": "[encoded data removed]",
      "text/plain": [
       "<Figure size 864x576 with 1 Axes>"
      ]
     },
     "metadata": {},
     "output_type": "display_data"
    }
   ],
   "source": [
    "colors = [\"#33ff33\", \"#99ff33\", \"#ff9933\", \"#ff3333\"]\n",
    "\n",
    "plt.figure(figsize=(12, 8))\n",
    "df1=df[['age','cardio_status']]\n",
    "bins =  np.arange(30,80,10)\n",
    "groups = df1.groupby(pd.cut(df1['age'],bins)).mean()\n",
    "print(groups.head())\n",
    "print(\" \")\n",
    "groups['cardio_status'].plot(kind=\"bar\", color = colors)\n",
    "plt.title(\"Probability of Cardiovascular Disease vs. Age Difference\", size=20)\n",
    "plt.xlabel('Age Distribution', size=15)\n",
    "plt.show()"
   ]
  },
  {
   "cell_type": "markdown",
   "metadata": {},
   "source": [
    "#### `OBSERVATION: The higher the Age Difference, the higher the possibility of having a cardiovascular disease`"
   ]
  },
  {
   "cell_type": "code",
   "execution_count": null,
   "metadata": {},
   "outputs": [],
   "source": []
  },
  {
   "cell_type": "markdown",
   "metadata": {},
   "source": [
    "### Body Mass Index"
   ]
  },
  {
   "cell_type": "code",
   "execution_count": 74,
   "metadata": {},
   "outputs": [],
   "source": [
    "# print(df.age.value_counts())"
   ]
  },
  {
   "cell_type": "code",
   "execution_count": 75,
   "metadata": {},
   "outputs": [
    {
     "name": "stdout",
     "output_type": "stream",
     "text": [
      "bmi_class   cardio_status\n",
      "Healthy     0                0.605366\n",
      "            1                0.394634\n",
      "Overweight  1                0.555753\n",
      "            0                0.444247\n",
      "Name: cardio_status, dtype: float64\n",
      "\n"
     ]
    },
    {
     "data": {
      "image/png": "[encoded data removed]",
      "text/plain": [
       "<Figure size 800.05x360 with 1 Axes>"
      ]
     },
     "metadata": {},
     "output_type": "display_data"
    }
   ],
   "source": [
    "colors = [\"#33ff33\", \"#ff3333\"]\n",
    "sns.set_palette(colors)\n",
    "\n",
    "df_bmi_class = df[['bmi_class', 'cardio_status']]\n",
    "df_bmi_class['bmi_class'].replace({0: \"Overweight\", 1: \"Healthy\"}, inplace=True)\n",
    "\n",
    "print(df_bmi_class.groupby('bmi_class')['cardio_status'].value_counts(normalize=True))\n",
    "print('')\n",
    "\n",
    "sns.catplot(x='bmi_class',kind='count', hue='cardio_status', data=df_bmi_class, height=5, aspect=2)\n",
    "# plt.ylabel('')\n",
    "plt.xticks(rotation=45)\n",
    "plt.title('Body Mass Index (BMI) vs Cardio Status', size=20)\n",
    "plt.show()"
   ]
  },
  {
   "cell_type": "markdown",
   "metadata": {},
   "source": [
    "`OBSERVATION: Patients who are overweight (i.e. BMI > 25) have higher tendencies of having a cardiovascular disease`"
   ]
  },
  {
   "cell_type": "code",
   "execution_count": null,
   "metadata": {},
   "outputs": [],
   "source": []
  },
  {
   "cell_type": "markdown",
   "metadata": {},
   "source": [
    "### Blood Pressure"
   ]
  },
  {
   "cell_type": "code",
   "execution_count": 78,
   "metadata": {},
   "outputs": [
    {
     "name": "stdout",
     "output_type": "stream",
     "text": [
      "blood_pressure           cardio_status\n",
      "Elevated Blood Pressure  0                0.677160\n",
      "                         1                0.322840\n",
      "High BP Stage 1          0                0.615465\n",
      "                         1                0.384535\n",
      "High BP Stage 2          1                0.779469\n",
      "                         0                0.220531\n",
      "Low Blood Pressure       0                0.928571\n",
      "                         1                0.071429\n",
      "Normal Blood Pressure    0                0.778244\n",
      "                         1                0.221756\n",
      "Name: cardio_status, dtype: float64\n",
      "\n"
     ]
    },
    {
     "data": {
      "image/png": "[encoded data removed]",
      "text/plain": [
       "<Figure size 800.05x360 with 1 Axes>"
      ]
     },
     "metadata": {},
     "output_type": "display_data"
    }
   ],
   "source": [
    "colors = [\"#33ff33\", \"#ff3333\"]\n",
    "sns.set_palette(colors)\n",
    "\n",
    "df_bp = df[['blood_pressure', 'cardio_status']]\n",
    "df_bp['blood_pressure'].replace({0: \"Overweight\", 1: \"Healthy\"}, inplace=True)\n",
    "\n",
    "print(df_bp.groupby('blood_pressure')['cardio_status'].value_counts(normalize=True))\n",
    "print('')\n",
    "\n",
    "sns.catplot(x='blood_pressure',kind='count', hue='cardio_status', data=df_bp, height=5, aspect=2)\n",
    "# plt.ylabel('')\n",
    "plt.xticks(rotation=45)\n",
    "plt.title('Blood Pressure (mmHg) vs Cardio Status', size=20)\n",
    "plt.show()"
   ]
  },
  {
   "cell_type": "markdown",
   "metadata": {},
   "source": [
    "`OBSERVATION: Patients with Stage 1 and Stage 1 high blood pressure reading have higher chance of having a cardiovascular disease`"
   ]
  },
  {
   "cell_type": "code",
   "execution_count": null,
   "metadata": {},
   "outputs": [],
   "source": []
  },
  {
   "cell_type": "markdown",
   "metadata": {},
   "source": [
    "### Gender"
   ]
  },
  {
   "cell_type": "code",
   "execution_count": 79,
   "metadata": {},
   "outputs": [
    {
     "name": "stdout",
     "output_type": "stream",
     "text": [
      "gender  cardio_status\n",
      "Female  0                0.507735\n",
      "        1                0.492265\n",
      "Male    0                0.500167\n",
      "        1                0.499833\n",
      "Name: cardio_status, dtype: float64\n",
      "\n"
     ]
    },
    {
     "data": {
      "image/png": "[encoded data removed]",
      "text/plain": [
       "<Figure size 800.05x360 with 1 Axes>"
      ]
     },
     "metadata": {},
     "output_type": "display_data"
    }
   ],
   "source": [
    "colors = [\"#33ff33\", \"#ff3333\"]\n",
    "sns.set_palette(colors)\n",
    "\n",
    "df_gender = df[['gender', 'cardio_status']]\n",
    "df_gender['gender'].replace({0: \"Female\", 1: \"Male\"}, inplace=True)\n",
    "\n",
    "print(df_gender.groupby('gender')['cardio_status'].value_counts(normalize=True))\n",
    "print('')\n",
    "\n",
    "sns.catplot(x='gender',kind='count', hue='cardio_status', data=df_gender, height=5, aspect=2)\n",
    "# plt.ylabel('')\n",
    "plt.xticks(rotation=45)\n",
    "plt.title('Gender vs Cardio Status', size=20)\n",
    "plt.show()"
   ]
  },
  {
   "cell_type": "markdown",
   "metadata": {},
   "source": [
    "#### `OBSERVATION: Similar tendencies observed`"
   ]
  },
  {
   "cell_type": "code",
   "execution_count": null,
   "metadata": {},
   "outputs": [],
   "source": []
  },
  {
   "cell_type": "markdown",
   "metadata": {},
   "source": [
    "### Glucose Level"
   ]
  },
  {
   "cell_type": "code",
   "execution_count": 80,
   "metadata": {},
   "outputs": [
    {
     "name": "stdout",
     "output_type": "stream",
     "text": [
      "glucose            cardio_status\n",
      "Above Normal       1                0.588687\n",
      "                   0                0.411313\n",
      "Normal             0                0.524319\n",
      "                   1                0.475681\n",
      "Well Above Normal  1                0.618720\n",
      "                   0                0.381280\n",
      "Name: cardio_status, dtype: float64\n",
      "\n"
     ]
    },
    {
     "data": {
      "image/png": "[encoded data removed]",
      "text/plain": [
       "<Figure size 800.05x360 with 1 Axes>"
      ]
     },
     "metadata": {},
     "output_type": "display_data"
    }
   ],
   "source": [
    "colors = [\"#33ff33\", \"#ff3333\"]\n",
    "sns.set_palette(colors)\n",
    "\n",
    "df_glu = df[['glucose', 'cardio_status']]\n",
    "df_glu['glucose'].replace({0: \"Normal\", 1: \"Above Normal\", 2: \"Well Above Normal\"}, inplace=True)\n",
    "\n",
    "print(df_glu.groupby('glucose')['cardio_status'].value_counts(normalize=True))\n",
    "print('')\n",
    "\n",
    "sns.catplot(x='glucose',kind='count', hue='cardio_status', data=df_glu, height=5, aspect=2)\n",
    "# plt.ylabel('')\n",
    "plt.xticks(rotation=45)\n",
    "plt.title('Glucose Level vs Cardio Status', size=20)\n",
    "plt.show()"
   ]
  },
  {
   "cell_type": "markdown",
   "metadata": {},
   "source": [
    "#### `OBSERVATION: Higher Glucose Level shows slight higher tendency for cardiovascular disease`"
   ]
  },
  {
   "cell_type": "code",
   "execution_count": null,
   "metadata": {},
   "outputs": [],
   "source": []
  },
  {
   "cell_type": "markdown",
   "metadata": {},
   "source": [
    "### Cholesterol Level"
   ]
  },
  {
   "cell_type": "code",
   "execution_count": 81,
   "metadata": {},
   "outputs": [
    {
     "name": "stdout",
     "output_type": "stream",
     "text": [
      "cholesterol        cardio_status\n",
      "Above Normal       1                0.596414\n",
      "                   0                0.403586\n",
      "Normal             0                0.564394\n",
      "                   1                0.435606\n",
      "Well Above Normal  1                0.762871\n",
      "                   0                0.237129\n",
      "Name: cardio_status, dtype: float64\n",
      "\n"
     ]
    },
    {
     "data": {
      "image/png": "[encoded data removed]",
      "text/plain": [
       "<Figure size 800.05x360 with 1 Axes>"
      ]
     },
     "metadata": {},
     "output_type": "display_data"
    }
   ],
   "source": [
    "colors = [\"#33ff33\", \"#ff3333\"]\n",
    "sns.set_palette(colors)\n",
    "\n",
    "df_chol = df[['cholesterol', 'cardio_status']]\n",
    "df_chol['cholesterol'].replace({0: \"Normal\", 1: \"Above Normal\", 2: \"Well Above Normal\"}, inplace=True)\n",
    "\n",
    "print(df_chol.groupby('cholesterol')['cardio_status'].value_counts(normalize=True))\n",
    "print('')\n",
    "\n",
    "sns.catplot(x='cholesterol',kind='count', hue='cardio_status', data=df_chol, height=5, aspect=2)\n",
    "# plt.ylabel('')\n",
    "plt.xticks(rotation=45)\n",
    "plt.title('Cholesterol Level vs Cardio Status', size=20)\n",
    "plt.show()"
   ]
  },
  {
   "cell_type": "markdown",
   "metadata": {},
   "source": [
    "#### `OBSERVATION: Higher Cholesterol Level shows slight higher tendency for cardiovascular disease`"
   ]
  },
  {
   "cell_type": "code",
   "execution_count": null,
   "metadata": {},
   "outputs": [],
   "source": []
  },
  {
   "cell_type": "markdown",
   "metadata": {},
   "source": [
    "### Smoking"
   ]
  },
  {
   "cell_type": "code",
   "execution_count": 82,
   "metadata": {},
   "outputs": [
    {
     "name": "stdout",
     "output_type": "stream",
     "text": [
      "smoke        cardio_status\n",
      "Do Smoke     0                0.531307\n",
      "             1                0.468693\n",
      "Don't Smoke  0                0.502567\n",
      "             1                0.497433\n",
      "Name: cardio_status, dtype: float64\n",
      "\n"
     ]
    },
    {
     "data": {
      "image/png": "[encoded data removed]",
      "text/plain": [
       "<Figure size 800.05x360 with 1 Axes>"
      ]
     },
     "metadata": {},
     "output_type": "display_data"
    }
   ],
   "source": [
    "colors = [\"#33ff33\", \"#ff3333\"]\n",
    "sns.set_palette(colors)\n",
    "\n",
    "df_sm = df[['smoke', 'cardio_status']]\n",
    "df_sm['smoke'].replace({0: \"Don't Smoke\", 1: \"Do Smoke\"}, inplace=True)\n",
    "\n",
    "print(df_sm.groupby('smoke')['cardio_status'].value_counts(normalize=True))\n",
    "print('')\n",
    "\n",
    "sns.catplot(x='smoke',kind='count', hue='cardio_status', data=df_sm, height=5, aspect=2)\n",
    "# plt.ylabel('')\n",
    "plt.xticks(rotation=45)\n",
    "plt.title('Smoking vs Cardio Status', size=20)\n",
    "plt.show()"
   ]
  },
  {
   "cell_type": "markdown",
   "metadata": {},
   "source": [
    "`OBSERVATION: Surprisingly, no visible difference`"
   ]
  },
  {
   "cell_type": "code",
   "execution_count": null,
   "metadata": {},
   "outputs": [],
   "source": []
  },
  {
   "cell_type": "markdown",
   "metadata": {},
   "source": [
    "### Alcohol Consumption"
   ]
  },
  {
   "cell_type": "code",
   "execution_count": 83,
   "metadata": {},
   "outputs": [
    {
     "name": "stdout",
     "output_type": "stream",
     "text": [
      "alcohol_consumption  cardio_status\n",
      "Do Drink             0                0.522364\n",
      "                     1                0.477636\n",
      "Don't Drink          0                0.504117\n",
      "                     1                0.495883\n",
      "Name: cardio_status, dtype: float64\n",
      "\n"
     ]
    },
    {
     "data": {
      "image/png": "[encoded data removed]",
      "text/plain": [
       "<Figure size 800.05x360 with 1 Axes>"
      ]
     },
     "metadata": {},
     "output_type": "display_data"
    }
   ],
   "source": [
    "colors = [\"#33ff33\", \"#ff3333\"]\n",
    "sns.set_palette(colors)\n",
    "\n",
    "df_al = df[['alcohol_consumption', 'cardio_status']]\n",
    "df_al['alcohol_consumption'].replace({0: \"Don't Drink\", 1: \"Do Drink\"}, inplace=True)\n",
    "\n",
    "print(df_al.groupby('alcohol_consumption')['cardio_status'].value_counts(normalize=True))\n",
    "print('')\n",
    "\n",
    "sns.catplot(x='alcohol_consumption',kind='count', hue='cardio_status', data=df_al, height=5, aspect=2)\n",
    "# plt.ylabel('')\n",
    "plt.xticks(rotation=45)\n",
    "plt.title('Alcohol Consumption vs Cardio Status', size=20)\n",
    "plt.show()"
   ]
  },
  {
   "cell_type": "markdown",
   "metadata": {},
   "source": [
    "`OBSERVATION: Surprisingly, no visible difference`"
   ]
  },
  {
   "cell_type": "code",
   "execution_count": null,
   "metadata": {},
   "outputs": [],
   "source": []
  },
  {
   "cell_type": "markdown",
   "metadata": {},
   "source": [
    "### Physical Activity"
   ]
  },
  {
   "cell_type": "code",
   "execution_count": 86,
   "metadata": {},
   "outputs": [
    {
     "name": "stdout",
     "output_type": "stream",
     "text": [
      "active  cardio_status\n",
      "0       1                0.532535\n",
      "        0                0.467465\n",
      "1       0                0.514306\n",
      "        1                0.485694\n",
      "Name: cardio_status, dtype: float64\n",
      "\n"
     ]
    },
    {
     "data": {
      "image/png": "[encoded data removed]",
      "text/plain": [
       "<Figure size 800.05x360 with 1 Axes>"
      ]
     },
     "metadata": {},
     "output_type": "display_data"
    }
   ],
   "source": [
    "colors = [\"#33ff33\", \"#ff3333\"]\n",
    "sns.set_palette(colors)\n",
    "\n",
    "df_ac = df[['active', 'cardio_status']]\n",
    "# df_ac['active''].replace({0: \"Don't Drink\", 1: \"Do Drink\"}, inplace=True)\n",
    "\n",
    "print(df_ac.groupby('active')['cardio_status'].value_counts(normalize=True))\n",
    "print('')\n",
    "\n",
    "sns.catplot(x='active',kind='count', hue='cardio_status', data=df_ac, height=5, aspect=2)\n",
    "# plt.ylabel('')\n",
    "plt.xticks(rotation=45)\n",
    "plt.title('Physical Actvity vs Cardio Status', size=20)\n",
    "plt.show()"
   ]
  },
  {
   "cell_type": "markdown",
   "metadata": {},
   "source": [
    "`OBSERVATION: Non-active patients have a slight chance of having a cardiovascular disease but much cannot be inferred between active and non-active patients`"
   ]
  },
  {
   "cell_type": "code",
   "execution_count": null,
   "metadata": {},
   "outputs": [],
   "source": []
  },
  {
   "cell_type": "code",
   "execution_count": 90,
   "metadata": {},
   "outputs": [],
   "source": [
    "df = df[['age', 'gender', 'cholesterol','glucose', 'smoke', 'alcohol_consumption', 'active', 'blood_pressure', 'bmi_class', 'cardio_status']]"
   ]
  },
  {
   "cell_type": "code",
   "execution_count": 92,
   "metadata": {},
   "outputs": [
    {
     "data": {
      "text/html": [
       "<div>\n",
       "<style scoped>\n",
       "    .dataframe tbody tr th:only-of-type {\n",
       "        vertical-align: middle;\n",
       "    }\n",
       "\n",
       "    .dataframe tbody tr th {\n",
       "        vertical-align: top;\n",
       "    }\n",
       "\n",
       "    .dataframe thead th {\n",
       "        text-align: right;\n",
       "    }\n",
       "</style>\n",
       "<table border=\"1\" class=\"dataframe\">\n",
       "  <thead>\n",
       "    <tr style=\"text-align: right;\">\n",
       "      <th></th>\n",
       "      <th>age</th>\n",
       "      <th>gender</th>\n",
       "      <th>cholesterol</th>\n",
       "      <th>glucose</th>\n",
       "      <th>smoke</th>\n",
       "      <th>alcohol_consumption</th>\n",
       "      <th>active</th>\n",
       "      <th>blood_pressure</th>\n",
       "      <th>bmi_class</th>\n",
       "      <th>cardio_status</th>\n",
       "    </tr>\n",
       "  </thead>\n",
       "  <tbody>\n",
       "    <tr>\n",
       "      <th>0</th>\n",
       "      <td>50</td>\n",
       "      <td>1</td>\n",
       "      <td>0</td>\n",
       "      <td>0</td>\n",
       "      <td>0</td>\n",
       "      <td>0</td>\n",
       "      <td>1</td>\n",
       "      <td>High BP Stage 1</td>\n",
       "      <td>1</td>\n",
       "      <td>0</td>\n",
       "    </tr>\n",
       "    <tr>\n",
       "      <th>1</th>\n",
       "      <td>55</td>\n",
       "      <td>0</td>\n",
       "      <td>2</td>\n",
       "      <td>0</td>\n",
       "      <td>0</td>\n",
       "      <td>0</td>\n",
       "      <td>1</td>\n",
       "      <td>High BP Stage 2</td>\n",
       "      <td>0</td>\n",
       "      <td>1</td>\n",
       "    </tr>\n",
       "    <tr>\n",
       "      <th>2</th>\n",
       "      <td>52</td>\n",
       "      <td>0</td>\n",
       "      <td>2</td>\n",
       "      <td>0</td>\n",
       "      <td>0</td>\n",
       "      <td>0</td>\n",
       "      <td>0</td>\n",
       "      <td>High BP Stage 1</td>\n",
       "      <td>1</td>\n",
       "      <td>1</td>\n",
       "    </tr>\n",
       "  </tbody>\n",
       "</table>\n",
       "</div>"
      ],
      "text/plain": [
       "   age  gender  cholesterol  glucose  smoke  alcohol_consumption  active  \\\n",
       "0   50       1            0        0      0                    0       1   \n",
       "1   55       0            2        0      0                    0       1   \n",
       "2   52       0            2        0      0                    0       0   \n",
       "\n",
       "    blood_pressure  bmi_class  cardio_status  \n",
       "0  High BP Stage 1          1              0  \n",
       "1  High BP Stage 2          0              1  \n",
       "2  High BP Stage 1          1              1  "
      ]
     },
     "execution_count": 92,
     "metadata": {},
     "output_type": "execute_result"
    }
   ],
   "source": [
    "df.head(3)"
   ]
  },
  {
   "cell_type": "code",
   "execution_count": null,
   "metadata": {},
   "outputs": [],
   "source": []
  },
  {
   "cell_type": "code",
   "execution_count": 93,
   "metadata": {},
   "outputs": [
    {
     "data": {
      "image/png": "[encoded data removed]",
      "text/plain": [
       "<Figure size 864x576 with 2 Axes>"
      ]
     },
     "metadata": {},
     "output_type": "display_data"
    }
   ],
   "source": [
    "# Let's check the multicollinearity of features by checking the correlation matric\n",
    "\n",
    "plt.figure(figsize=(12,8))\n",
    "p=sns.heatmap(df.corr(), annot=True,cmap='RdYlGn',center=0) "
   ]
  },
  {
   "cell_type": "code",
   "execution_count": null,
   "metadata": {},
   "outputs": [],
   "source": []
  }
 ],
 "metadata": {
  "kernelspec": {
   "display_name": "Python 3",
   "language": "python",
   "name": "python3"
  },
  "language_info": {
   "codemirror_mode": {
    "name": "ipython",
    "version": 3
   },
   "file_extension": ".py",
   "mimetype": "text/x-python",
   "name": "python",
   "nbconvert_exporter": "python",
   "pygments_lexer": "ipython3",
   "version": "3.6.1"
  }
 },
 "nbformat": 4,
 "nbformat_minor": 4
}
